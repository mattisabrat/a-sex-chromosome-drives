{
 "cells": [
  {
   "cell_type": "markdown",
   "metadata": {},
   "source": [
    "# 1 - Preprocessing and module detection"
   ]
  },
  {
   "cell_type": "markdown",
   "metadata": {},
   "source": [
    "## Ok, first thing is to generate the Count Matrix and QC\n",
    "I'm going to work from raw data so the first thing I have to do is map Illumina reads for each sample to the zebrafinch genome and aggreate these mappings to the level of genes. \n",
    "\n",
    "\n",
    "I can't do this in a Jupyter notebook. I gathered the relevant set of HaNa's data and ran it through (the CountMatrix pipeline)[https://github.com/mattisabrat/CountMatrix/] (cloned 3/17/2020) using the following command:\n",
    "\n",
    "    ./CountMatrix.sh -e /v-data2/matt_davenport/hana_reanalysis/hana_cm_formatted/ -t -n 8\n",
    "\n",
    "the following config file:\n",
    "\n",
    "    STAR_index_flags :\n",
    "    STAR_quant_flags :\n",
    "    FeatureCounts_aggregate_flags : minFragLength = 50\n",
    " \n",
    "    Trimmomatic_flags :  CROP:95 HEADCROP:15 SLIDINGWINDOW:4:20 MINLEN:50\n",
    " \n",
    "    Multiqc_flags : --interactive\n",
    "    \n",
    "and this genome and annotation: \n",
    "    \n",
    "    ftp://ftp.ncbi.nlm.nih.gov/genomes/all/GCF/008/822/105/GCF_008822105.2_bTaeGut2.pat.W.v2 \n",
    "    \n",
    "with all entries missing a gene_id (tRNAs, mitogenes, etc.) purged from the .gtf using grep because that hangs up featurecounts."
   ]
  },
  {
   "cell_type": "markdown",
   "metadata": {},
   "source": [
    "### Set up env"
   ]
  },
  {
   "cell_type": "code",
   "execution_count": null,
   "metadata": {},
   "outputs": [],
   "source": [
    "# Specify the lib path\n",
    "lib_path<-paste(getwd(),'/hana_reanalysis_lib',sep='')\n",
    "print(lib_path)\n",
    "\n",
    "# Set the path\n",
    ".libPaths(lib_path)\n",
    ".libPaths()"
   ]
  },
  {
   "cell_type": "markdown",
   "metadata": {},
   "source": [
    "### Only run the import if first time running. Takes forever"
   ]
  },
  {
   "cell_type": "code",
   "execution_count": null,
   "metadata": {},
   "outputs": [],
   "source": [
    "# Import packages\n",
    "#install.packages(c(\"tidyverse\", \"BiocManager\", \"matrixStats\", \"Hmisc\",\n",
    "#                   \"foreach\", \"doParallel\", \"fastcluster\", \"dynamicTreeCut\",\n",
    "#                   \"survival\", \"ggpubr\", \"ggdendro\"),\n",
    "#                lib=lib_path) \n",
    "\n",
    "#library(BiocManager)\n",
    "#BiocManager::install(c(\"GO.db\", \"WGCNA\", \"preprocessCore\", \"impute\", \"DESeq2\"),\n",
    "#                    lib=lib_path)"
   ]
  },
  {
   "cell_type": "markdown",
   "metadata": {},
   "source": [
    "### Read in data"
   ]
  },
  {
   "cell_type": "code",
   "execution_count": null,
   "metadata": {},
   "outputs": [],
   "source": [
    "# Read in data\n",
    "count_matrix <- readRDS('/v-data2/matt_davenport/hana_reanalyses/hana_cm_formatted/Count_Matrix.rds')"
   ]
  },
  {
   "cell_type": "code",
   "execution_count": null,
   "metadata": {},
   "outputs": [],
   "source": [
    "# Lets take a look at the data\n",
    "names(count_matrix)\n",
    "print('counts')\n",
    "dim(count_matrix$counts)\n",
    "head(count_matrix$counts)\n",
    "print('stat')\n",
    "dim(count_matrix$stat)\n",
    "head(count_matrix$stat)\n",
    "print('annotation')\n",
    "dim(count_matrix$annotation)\n",
    "head(count_matrix$annotation)"
   ]
  },
  {
   "cell_type": "markdown",
   "metadata": {},
   "source": [
    "### Convert to FPKM."
   ]
  },
  {
   "cell_type": "code",
   "execution_count": null,
   "metadata": {},
   "outputs": [],
   "source": [
    "#libs for wrangling\n",
    "library(tidyverse)\n",
    "\n",
    "#First lets reorder the row of annotation and counts to be alphabetical by gene\n",
    "count_matrix$annotation <- count_matrix$annotation %>% arrange(GeneID)\n",
    "\n",
    "\n",
    "#Put the gene_ids into a column of counts\n",
    "count_matrix$counts$gene_id <- rownames(count_matrix$counts)\n",
    "count_matrix$counts         <- count_matrix$counts %>% arrange(gene_id)\n",
    "\n",
    "#Double check that they're identical\n",
    "count_matrix$counts$gene_id[1:10]\n",
    "count_matrix$annotation$GeneID[1:10]\n",
    "\n",
    "#fraction identical\n",
    "sum(count_matrix$counts$gene_id == count_matrix$annotation$GeneID) / length(count_matrix$annotation$GeneID)\n",
    "\n",
    "#Move the lengths into counts\n",
    "count_matrix$counts$lengths <- count_matrix$annotation$Length\n",
    "head(count_matrix$counts)\n"
   ]
  },
  {
   "cell_type": "code",
   "execution_count": null,
   "metadata": {},
   "outputs": [],
   "source": [
    "#convert\n",
    "count_matrix$fpkm <- count_matrix$counts %>% \n",
    "                        transmute_at(vars(-lengths,-gene_id), \n",
    "                                     ~ . / ((sum(.)/10^6) * (lengths/10^3)))\n",
    "\n",
    "#move over gene_ids\n",
    "count_matrix$fpkm$gene_id <- count_matrix$counts$gene_id\n",
    "\n",
    "head(count_matrix$fpkm)"
   ]
  },
  {
   "cell_type": "code",
   "execution_count": null,
   "metadata": {},
   "outputs": [],
   "source": [
    "count_matrix$fpkm %>% filter(gene_id=='MEF2C') %>% t"
   ]
  },
  {
   "cell_type": "markdown",
   "metadata": {},
   "source": [
    "#### Ok looks good"
   ]
  },
  {
   "cell_type": "code",
   "execution_count": null,
   "metadata": {},
   "outputs": [],
   "source": [
    "#load the libs for analysis\n",
    "library(WGCNA)\n",
    "options(stringsAsFactors = FALSE)\n",
    "disableWGCNAThreads()"
   ]
  },
  {
   "cell_type": "markdown",
   "metadata": {},
   "source": [
    "### Format for WGCNA"
   ]
  },
  {
   "cell_type": "code",
   "execution_count": null,
   "metadata": {},
   "outputs": [],
   "source": [
    "#create a list of things for WGCNA including a formated fpkm matrix. (genes as columns, samples as rows)\n",
    "wgcna_tbl <- list()\n",
    "wgcna_tbl$fpkm <- count_matrix$fpkm %>%\n",
    "                        select(-one_of(\"gene_id\")) %>%\n",
    "                        t() %>% as.data.frame\n",
    "\n",
    "colnames(wgcna_tbl$fpkm) <- count_matrix$counts$gene_id[]\n",
    "\n",
    "head(wgcna_tbl$fpkm)"
   ]
  },
  {
   "cell_type": "markdown",
   "metadata": {},
   "source": [
    "### Gene QC"
   ]
  },
  {
   "cell_type": "code",
   "execution_count": null,
   "metadata": {},
   "outputs": [],
   "source": [
    "#now we need to kleen house hunty\n",
    "#are there bad genes or samples?\n",
    "wgcna_tbl$gsg <- goodSamplesGenes(wgcna_tbl$fpkm, verbose = 3);\n",
    "wgcna_tbl$gsg$allOK"
   ]
  },
  {
   "cell_type": "code",
   "execution_count": null,
   "metadata": {},
   "outputs": [],
   "source": [
    "#How many bad genes/samples are there\n",
    "sum(wgcna_tbl$gsg$goodGenes==FALSE)\n",
    "sum(wgcna_tbl$gsg$goodSamples==FALSE)\n"
   ]
  },
  {
   "cell_type": "code",
   "execution_count": null,
   "metadata": {},
   "outputs": [],
   "source": [
    "#Ok, thats not bad at all, lets remove those genes.\n",
    "wgcna_tbl$fpkm_gsg_filtered <- wgcna_tbl$fpkm %>% select(which(wgcna_tbl$gsg$goodGenes==TRUE))\n",
    "wgcna_tbl$fpkm_gsg_rejects  <- wgcna_tbl$fpkm %>% select(which(wgcna_tbl$gsg$goodGenes==FALSE))\n",
    "\n",
    "#make sure its the right size\n",
    "print(length(count_matrix$counts$gene_id)-250)\n",
    "print(length(colnames(wgcna_tbl$fpkm_gsg_filtered)))\n",
    "\n",
    "#take a look at the kept data\n",
    "head(wgcna_tbl$fpkm_gsg_filtered)\n",
    "\n",
    "#list all the rejected genes\n",
    "print(colnames(wgcna_tbl$fpkm_gsg_rejects))"
   ]
  },
  {
   "cell_type": "markdown",
   "metadata": {},
   "source": [
    "### Sample clustering to find outliers"
   ]
  },
  {
   "cell_type": "code",
   "execution_count": null,
   "metadata": {},
   "outputs": [],
   "source": [
    "sampleTree = hclust(dist(wgcna_tbl$fpkm_gsg_filtered), method = \"average\")\n",
    "par(cex = 0.6);\n",
    "par(mar = c(0,4,2,0))\n",
    "plot(sampleTree, main = \"Sample clustering to detect outliers\", sub=\"\", xlab=\"\", cex.lab = 1.5, \n",
    "     cex.axis = 1.5, cex.main = 2, hang=-1)"
   ]
  },
  {
   "cell_type": "markdown",
   "metadata": {},
   "source": [
    "### Two obviously offending samples, fv_ra_2 and mv_hvc_1, lets remove them"
   ]
  },
  {
   "cell_type": "code",
   "execution_count": null,
   "metadata": {},
   "outputs": [],
   "source": [
    "wgcna_tbl$fpkm_gsg_filtered$sample_id <- rownames(wgcna_tbl$fpkm_gsg_filtered)\n",
    "wgcna_tbl$fpkm_gsg_hclust_filtered <- wgcna_tbl$fpkm_gsg_filtered %>%\n",
    "                                        filter(!sample_id %in% c(\"fv_ra_2\", \"mv_hvc_1\"))\n",
    "\n",
    "rownames(wgcna_tbl$fpkm_gsg_hclust_filtered) <- wgcna_tbl$fpkm_gsg_hclust_filtered$sample_id\n",
    "wgcna_tbl$fpkm_gsg_hclust_filtered$sample_id <- NULL\n",
    "\n",
    "#make sure we lost two samples\n",
    "dim(wgcna_tbl$fpkm_gsg_hclust_filtered)"
   ]
  },
  {
   "cell_type": "code",
   "execution_count": null,
   "metadata": {},
   "outputs": [],
   "source": [
    "#look at it again\n",
    "sampleTree2 = hclust(dist(wgcna_tbl$fpkm_gsg_hclust_filtered), method = \"average\")\n",
    "par(cex = 0.6);\n",
    "par(mar = c(0,4,2,0))\n",
    "plot(sampleTree2, main = \"Sample clustering to detect outliers\", sub=\"\", xlab=\"\", cex.lab = 1.5, \n",
    "     cex.axis = 1.5, cex.main = 2, hang=-1)"
   ]
  },
  {
   "cell_type": "markdown",
   "metadata": {},
   "source": [
    "### Better, wish I hadn't had to ditch samples in the production pathway tho..."
   ]
  },
  {
   "cell_type": "markdown",
   "metadata": {},
   "source": [
    "### Select tree trimming power for wgcna \n",
    "Constructing  a  weighted  gene  network  entails  the  choice  of  the  soft  thresholding  power β to  which  co-expressionsimilarity is raised to calculate adjacency. Here I use the function pickSoftThreshold to perform the analysis of network topology to help choose a proper soft-thresholding power. We want the lowest power which demonstrates scale free topolgy. <- paraphrased from docs"
   ]
  },
  {
   "cell_type": "code",
   "execution_count": null,
   "metadata": {},
   "outputs": [],
   "source": [
    "# Choose a set of soft-thresholding powers\n",
    "powers = c(1:20)\n",
    "\n",
    "# Call the network topology analysis function\n",
    "sft = pickSoftThreshold(wgcna_tbl$fpkm_gsg_hclust_filtered,\n",
    "                        powerVector = powers,\n",
    "                        verbose = 5,\n",
    "                        blockSize=length(colnames(wgcna_tbl$fpkm_gsg_hclust_filtered)))\n",
    "\n",
    "# Plot the results:\n",
    "#sizeGrWindow(9, 5)\n",
    "par(mfrow = c(1,2));\n",
    "cex1 = 0.9;\n",
    "\n",
    "# Scale-free topology fit index as a function of the soft-thresholding power\n",
    "plot(sft$fitIndices[,1], -sign(sft$fitIndices[,3])*sft$fitIndices[,2],\n",
    "     xlab=\"Soft Threshold (power)\",ylab=\"Scale Free Topology Model Fit,signed R^2\",type=\"n\",\n",
    "     main = paste(\"Scale independence\"));\n",
    "text(sft$fitIndices[,1], -sign(sft$fitIndices[,3])*sft$fitIndices[,2],\n",
    "     labels=powers,cex=cex1,col=\"red\");\n",
    "\n",
    "# this line corresponds to using an R^2 cut-off of h\n",
    "abline(h=0.90,col=\"red\")\n",
    "\n",
    "# Mean connectivity as a function of the soft-thresholding power\n",
    "plot(sft$fitIndices[,1], sft$fitIndices[,5],\n",
    "     xlab=\"Soft Threshold (power)\",ylab=\"Mean Connectivity\", type=\"n\",\n",
    "     main = paste(\"Mean connectivity\"))\n",
    "text(sft$fitIndices[,1], sft$fitIndices[,5], labels=powers, cex=cex1,col=\"red\")"
   ]
  },
  {
   "cell_type": "markdown",
   "metadata": {},
   "source": [
    "### I'm gonna use 6, its on the knee"
   ]
  },
  {
   "cell_type": "markdown",
   "metadata": {},
   "source": [
    "### Detect modules"
   ]
  },
  {
   "cell_type": "code",
   "execution_count": null,
   "metadata": {},
   "outputs": [],
   "source": [
    "#yippee ki yay\n",
    "#Start with the most finescale I'll do, mainly just to get the TOM\n",
    "wgcna_tbl$net_2_0.2 <- blockwiseModules(wgcna_tbl$fpkm_gsg_hclust_filtered, power = 6,\n",
    "                                 maxBlockSize = length(colnames(wgcna_tbl$fpkm_gsg_hclust_filtered)),\n",
    "                                 TOMType = \"unsigned\",\n",
    "                                 minModuleSize = 100,\n",
    "                                 deep_split = 2,       #these are the knobs\n",
    "                                 mergeCutHeight = 0.2, #I'm going to fiddle with\n",
    "                                 numericLabels = TRUE, \n",
    "                                 pamStage = FALSE, #and this\n",
    "                                 saveTOMs = TRUE,\n",
    "                                 saveTOMFileBase = \"hana_wgcna_fpkm_gsg_hclust_filtered\",\n",
    "                                 corType = \"pearson\",\n",
    "                                 verbose = 3,\n",
    "                                 randomSeed = 42)"
   ]
  },
  {
   "cell_type": "code",
   "execution_count": null,
   "metadata": {},
   "outputs": [],
   "source": [
    "#Make a dataframe of all the params I want to explore\n",
    "param_list <- list()\n",
    "param_list$deep_splits <- c(0,1,2)\n",
    "param_list$mergeCutHeights <- c(0.2, 0.4, 0.6, 0.8, 0.9, 0.95)\n",
    "param_list$PAM_step <-c(TRUE,FALSE)\n",
    "\n",
    "\n",
    "param_tbl <- cross_df(param_list) %>% t %>% as.data.frame\n",
    "colnames(param_tbl) <- lapply(param_tbl,function(x){return(paste(x[1],x[2],x[3],sep='_'))})\n",
    "param_tbl$param <- row.names(param_tbl)\n",
    "param_tbl <- param_tbl %>% as_tibble\n",
    "param_tbl"
   ]
  },
  {
   "cell_type": "code",
   "execution_count": null,
   "metadata": {},
   "outputs": [],
   "source": [
    "#Iterate using that TOM I saved above. \n",
    "nets <- lapply(param_tbl %>% select(-one_of('param')),\n",
    "               function(x){\n",
    "                   print(x)\n",
    "                   net<-recutBlockwiseTrees(wgcna_tbl$fpkm_gsg_hclust_filtered,\n",
    "                                       goodSamples=wgcna_tbl$net_2_0.2$goodSamples,\n",
    "                                       goodGenes=wgcna_tbl$net_2_0.2$goodGenes,\n",
    "                                       blocks=wgcna_tbl$net_2_0.2$blocks,\n",
    "                                       TOMFiles=wgcna_tbl$net_2_0.2$TOMFiles,\n",
    "                                       dendrograms=wgcna_tbl$net_2_0.2$dendrograms,\n",
    "                                       TOMType = \"unsigned\",\n",
    "                                       minModuleSize = 100,\n",
    "                                       deep_split = x[1],       #these are the knobs\n",
    "                                       mergeCutHeight = x[2], #I'm going to fiddle with\n",
    "                                       numericLabels = TRUE, \n",
    "                                       pamStage = x[3], #and this\n",
    "                                       corType = \"pearson\",\n",
    "                                       verbose = 3,\n",
    "                                       randomSeed = 42)\n",
    "                   \n",
    "                   return(net)\n",
    "                                       \n",
    "               })\n"
   ]
  },
  {
   "cell_type": "code",
   "execution_count": null,
   "metadata": {},
   "outputs": [],
   "source": [
    "names(nets)\n",
    "names(nets$`0_0.2_1`)"
   ]
  },
  {
   "cell_type": "markdown",
   "metadata": {},
   "source": [
    "## This seems like a nice end point for this notebook. Lets gather the data we'll need moving forwards and save the data so we can start from here."
   ]
  },
  {
   "cell_type": "code",
   "execution_count": null,
   "metadata": {},
   "outputs": [],
   "source": [
    "#Add the CountMatrix to the nets lsit \n",
    "nets$input_data$fpkm        <- wgcna_tbl$fpkm_gsg_hclust_filtered\n",
    "nets$input_data$unrecut_net <- wgcna_tbl$net_2_0.2\n",
    "\n",
    "saveRDS(nets,'1_wgcna_recut_nets.rds')"
   ]
  },
  {
   "cell_type": "markdown",
   "metadata": {},
   "source": [
    "# 2 - Model Selection and Cleaning"
   ]
  },
  {
   "cell_type": "markdown",
   "metadata": {},
   "source": [
    "## Goal is to just to visualize each of our generated gene networks to select to one we feel best about for statistical testing. \n"
   ]
  },
  {
   "cell_type": "markdown",
   "metadata": {},
   "source": [
    "## Intro stuff"
   ]
  },
  {
   "cell_type": "code",
   "execution_count": null,
   "metadata": {},
   "outputs": [],
   "source": [
    "# Specify the lib path\n",
    "lib_path<-paste(getwd(),'/hana_reanalysis_lib',sep='')\n",
    "print(lib_path)\n",
    "\n",
    "# Set the path\n",
    ".libPaths(lib_path)\n",
    ".libPaths()\n",
    "\n",
    "library(tidyverse)\n",
    "library(WGCNA)"
   ]
  },
  {
   "cell_type": "code",
   "execution_count": null,
   "metadata": {},
   "outputs": [],
   "source": [
    "#REad in the nets\n",
    "nets <- readRDS('1_wgcna_recut_nets.rds')\n",
    "names(nets)"
   ]
  },
  {
   "cell_type": "code",
   "execution_count": null,
   "metadata": {},
   "outputs": [],
   "source": [
    "#Get input data out of the list\n",
    "input_data      <- nets$input_data\n",
    "nets$input_data <- NULL\n",
    "\n",
    "names(nets$'0_0.2_1')\n",
    "\n"
   ]
  },
  {
   "cell_type": "markdown",
   "metadata": {},
   "source": [
    "## Do some visualizing, we want the most modules without over fitting. If anything I'd like to be slightly overfit and I can then manually remove the overfit. "
   ]
  },
  {
   "cell_type": "code",
   "execution_count": null,
   "metadata": {},
   "outputs": [],
   "source": [
    "net <- nets$'2_0.6_1'\n",
    "\n",
    "table(net$colors)\n",
    "\n",
    "heatmap(net$MEs %>% data.matrix,scale=\"column\")\n",
    "heatmap(net$MEs %>% dist %>% data.matrix,scale=\"none\",sym=1)\n",
    "heatmap(net$MEs %>% t %>%  dist %>% data.matrix,scale=\"none\",sym=1)\n",
    "\n",
    "mergedColors = labels2colors(net$colors)\n",
    "\n",
    "hist(net$colors,\n",
    "    breaks=length(unique(net$colors)))\n",
    "    \n",
    "# Plot the dendrogram and the module colors underneath\n",
    "plotDendroAndColors(input_data$unrecut_net$dendrograms[[1]], \n",
    "    mergedColors[input_data$unrecut_net$blockGenes[[1]]],\n",
    "    'module_colors',\n",
    "    dendroLabels = FALSE, hang = 0.03,\n",
    "    addGuide = TRUE, guideHang = 0.05)"
   ]
  },
  {
   "cell_type": "markdown",
   "metadata": {},
   "source": [
    "### OK I like 2_.6_1, but ME7 and ME13 are clearly fitting ingle samples"
   ]
  },
  {
   "cell_type": "code",
   "execution_count": null,
   "metadata": {},
   "outputs": [],
   "source": [
    "net$MEs$ME13 <-NULL\n",
    "net$MEs$ME7 <- NULL\n",
    "net$colors[which(net$colors==13)] <-0\n",
    "net$colors[which(net$colors==7)] <-0\n",
    "table(net$colors)"
   ]
  },
  {
   "cell_type": "markdown",
   "metadata": {},
   "source": [
    "### Vis again without the overfit modules"
   ]
  },
  {
   "cell_type": "code",
   "execution_count": null,
   "metadata": {},
   "outputs": [],
   "source": [
    "heatmap(net$MEs %>% data.matrix,scale=\"column\")\n",
    "heatmap(net$MEs %>% dist %>% data.matrix,scale=\"none\",sym=1)\n",
    "heatmap(net$MEs %>% t %>%  dist %>% data.matrix,scale=\"none\",sym=1)\n",
    "\n",
    "mergedColors = labels2colors(net$colors)\n",
    "\n",
    "hist(net$colors,\n",
    "    breaks=length(unique(net$colors)))\n",
    "    \n",
    "# Plot the dendrogram and the module colors underneath\n",
    "plotDendroAndColors(input_data$unrecut_net$dendrograms[[1]], \n",
    "    mergedColors[input_data$unrecut_net$blockGenes[[1]]],\n",
    "    'module_colors',\n",
    "    dendroLabels = FALSE, hang = 0.03,\n",
    "    addGuide = TRUE, guideHang = 0.05)"
   ]
  },
  {
   "cell_type": "code",
   "execution_count": null,
   "metadata": {},
   "outputs": [],
   "source": [
    "net$input_data <- input_data"
   ]
  },
  {
   "cell_type": "markdown",
   "metadata": {},
   "source": [
    "## BEAUTIFUL\n",
    "## Seems like a good place to save my work"
   ]
  },
  {
   "cell_type": "code",
   "execution_count": null,
   "metadata": {},
   "outputs": [],
   "source": [
    "saveRDS(net, '2_wgcna_selected_purged_net.rds')"
   ]
  },
  {
   "cell_type": "markdown",
   "metadata": {},
   "source": [
    "# 3 - Module Eigengene Assocation"
   ]
  },
  {
   "cell_type": "code",
   "execution_count": null,
   "metadata": {},
   "outputs": [],
   "source": [
    "# Specify the lib path\n",
    "lib_path<-paste(getwd(),'/hana_reanalysis_lib',sep='')\n",
    "print(lib_path)\n",
    "\n",
    "# Set the path\n",
    ".libPaths(lib_path)\n",
    ".libPaths()"
   ]
  },
  {
   "cell_type": "markdown",
   "metadata": {},
   "source": [
    "### Import"
   ]
  },
  {
   "cell_type": "code",
   "execution_count": null,
   "metadata": {},
   "outputs": [],
   "source": [
    "library(tidyverse)\n",
    "library(WGCNA)"
   ]
  },
  {
   "cell_type": "markdown",
   "metadata": {},
   "source": [
    "### Read in data. Read in experimental design. "
   ]
  },
  {
   "cell_type": "code",
   "execution_count": null,
   "metadata": {},
   "outputs": [],
   "source": [
    "net <-readRDS('wgcna_selected_purged_net.rds')\n",
    "hana_design <- read.csv('hana_variables_by_sample.csv', header=TRUE, stringsAsFactors=FALSE)\n",
    "\n",
    "#remove those samples I had to remove before\n",
    "hana_design <- hana_design %>% filter(!sample_id %in% c(\"fv_ra_2\", \"mv_hvc_1\"))\n",
    "\n",
    "head(hana_design)\n",
    "head(net$MEs)"
   ]
  },
  {
   "cell_type": "code",
   "execution_count": null,
   "metadata": {},
   "outputs": [],
   "source": [
    "net$input_data$unrecut_net$TOMFiles\n",
    "Tom<- load(net$input_data$unrecut_net$TOMFiles)"
   ]
  },
  {
   "cell_type": "markdown",
   "metadata": {},
   "source": [
    "### Join and make it long form"
   ]
  },
  {
   "cell_type": "code",
   "execution_count": null,
   "metadata": {},
   "outputs": [],
   "source": [
    "net$MEs$ME0 <- NULL\n",
    "net$MEs$sample_id <- rownames(net$MEs)\n",
    "me_tbl   <- left_join(net$MEs, hana_design, by='sample_id') %>% \n",
    "    pivot_longer(cols=-one_of(colnames(hana_design)),\n",
    "                 names_to='me',values_to=\"me_expression\")\n",
    "head(me_tbl) \n",
    "unique(me_tbl$me)"
   ]
  },
  {
   "cell_type": "markdown",
   "metadata": {},
   "source": [
    "### Make the binary variables numeric binaries and convert the ME identifiers to letters"
   ]
  },
  {
   "cell_type": "code",
   "execution_count": null,
   "metadata": {},
   "outputs": [],
   "source": [
    "me_tbl <- me_tbl %>%\n",
    "    mutate(is_song_cap = as.numeric(song_capable =='y')) %>%\n",
    "    mutate(is_song_sys = as.numeric(song_system =='y')) %>%\n",
    "    mutate(is_e2 = as.numeric(dose =='e')) %>%\n",
    "    mutate(is_female = as.numeric(sex == 'f')) %>%\n",
    "    mutate(me = recode_factor(me,\n",
    "                                    'ME1'='A',\n",
    "                                    'ME2'='B',\n",
    "                                    'ME3'='C',\n",
    "                                    'ME4'='D',\n",
    "                                    'ME5'='E',\n",
    "                                    'ME6'='F',\n",
    "\n",
    "                                    'ME8'='G',\n",
    "                                    'ME9'='H',\n",
    "                                    'ME10'='I',\n",
    "                                    'ME11'='J',\n",
    "                                    'ME12'='K',\n",
    "\n",
    "                                    'ME14'='L'\n",
    "                             ))\n",
    "\n",
    "head(me_tbl)"
   ]
  },
  {
   "cell_type": "markdown",
   "metadata": {},
   "source": [
    "### Lets make all the subsets I think I might need"
   ]
  },
  {
   "cell_type": "code",
   "execution_count": null,
   "metadata": {},
   "outputs": [],
   "source": [
    "#Prep a list of data subsets\n",
    "tbls<-list()\n",
    "\n",
    "tbls$all <- me_tbl\n",
    "tbls$all_song_veh <- me_tbl %>% filter(is_e2==0) %>% filter(is_song_sys==1)\n",
    "tbls$all_surr_veh <- me_tbl %>% filter(is_e2==0) %>% filter(is_song_sys==0)\n",
    "tbls$m_tbl <- me_tbl %>% filter(is_female==0)\n",
    "tbls$f_tbl <- me_tbl %>% filter(is_female==1)\n",
    "tbls$f_noE_tbl <- me_tbl %>% filter(is_female==1) %>% filter(is_e2==0)\n",
    "tbls$f_E_tbl <- me_tbl %>% filter(is_female==1) %>% filter(is_e2==1)\n",
    "tbls$f_song_tbl <- me_tbl %>% filter(is_female==1) %>% filter(is_song_sys==1)\n",
    "tbls$f_surround <- me_tbl %>% filter(is_female==1) %>% filter(is_song_sys==0)\n",
    "tbls$m_veh_song <- me_tbl %>% filter(is_female==0) %>% filter(is_song_sys==1)\n",
    "tbls$m_veh_surr <- me_tbl %>% filter(is_female==0) %>% filter(is_song_sys==0)\n",
    "\n"
   ]
  },
  {
   "cell_type": "markdown",
   "metadata": {},
   "source": [
    "### Big thing to iterate over"
   ]
  },
  {
   "cell_type": "code",
   "execution_count": null,
   "metadata": {},
   "outputs": [],
   "source": [
    "#Prep a df node x me combos\n",
    "crs_lst <-list()\n",
    "crs_lst$nodes <- unique(me_tbl$node) \n",
    "crs_lst$mes <- unique(me_tbl$me) \n",
    "node_me_tbl <- cross_df(crs_lst) %>% t %>% as.data.frame\n",
    "colnames(node_me_tbl) <- lapply(node_me_tbl,function(x){return(paste(x[1],x[2],sep='_'))})\n",
    "\n",
    "#make a long form for later use\n",
    "node_tbl_long <- node_me_tbl %>% t %>% as.data.frame\n",
    "node_tbl_long$name <- rownames(node_tbl_long)\n",
    "\n",
    "head(node_me_tbl)"
   ]
  },
  {
   "cell_type": "markdown",
   "metadata": {},
   "source": [
    "### Iterate and calculate MEG - trait correlations"
   ]
  },
  {
   "cell_type": "code",
   "execution_count": null,
   "metadata": {},
   "outputs": [],
   "source": [
    "#Lets loop     \n",
    "#first loop, data subset\n",
    "res <- lapply(tbls,\n",
    "             function(tbl){\n",
    "                 #second loop, circuit node x ME combo\n",
    "                 res <- lapply(node_me_tbl,\n",
    "                               function(crs){\n",
    "                                   \n",
    "                                   #filter the table based on node x me\n",
    "                                   tmp_tbl <- tbl %>% filter(node==crs[1],me==crs[2] %>% as.character)\n",
    "                                   res<-list()\n",
    "                                   res$song_cap_cor<- cor(tmp_tbl$me_expression, tmp_tbl$is_song_cap)\n",
    "                                   res$song_sys_cor<- cor(tmp_tbl$me_expression, tmp_tbl$is_song_sys)\n",
    "                                   res$sex_cor     <- cor(tmp_tbl$me_expression, tmp_tbl$is_female)\n",
    "                                   res$e2_cor      <- cor(tmp_tbl$me_expression, tmp_tbl$is_e2)\n",
    "                                   \n",
    "                                   res$n_samp<-dim(tmp_tbl)[1]\n",
    "                                   \n",
    "                                   return(res)\n",
    "                               }) \n",
    "                 return(res)\n",
    "             })"
   ]
  },
  {
   "cell_type": "code",
   "execution_count": null,
   "metadata": {},
   "outputs": [],
   "source": [
    "head(res$all$an_G)"
   ]
  },
  {
   "cell_type": "markdown",
   "metadata": {},
   "source": [
    "## Time to wrangle\n",
    "### I want each subset to become a long form tibble"
   ]
  },
  {
   "cell_type": "code",
   "execution_count": null,
   "metadata": {},
   "outputs": [],
   "source": [
    "res2<- lapply(res,\n",
    "            function(tbl){\n",
    "                tmp <- tbl %>% \n",
    "                    as_tibble %>% mutate(measure=c('cap_cor','sys_cor','sex_cor','e2_cor','n'))\n",
    "                res<-list()\n",
    "                res$n_samps <- tmp %>% \n",
    "                    filter(measure=='n') %>% mutate(measure=NULL) %>%\n",
    "                    pivot_longer(everything(),values_to='n') %>% mutate(n=as.numeric(n))\n",
    "                \n",
    "                res$cap_cor <- tmp %>% \n",
    "                    filter(measure=='cap_cor') %>% mutate(measure=NULL) %>%\n",
    "                    pivot_longer(everything(),values_to='cap_cor') %>% \n",
    "                    mutate(cap_cor=as.numeric(cap_cor))\n",
    "\n",
    "                res$sys_cor <- tmp %>% \n",
    "                    filter(measure=='sys_cor') %>% mutate(measure=NULL) %>%\n",
    "                    pivot_longer(everything(),values_to='sys_cor')%>% \n",
    "                    mutate(sys_cor=as.numeric(sys_cor))\n",
    "                \n",
    "                res$sex_cor <- tmp %>% \n",
    "                    filter(measure=='sex_cor') %>% mutate(measure=NULL) %>%\n",
    "                    pivot_longer(everything(),values_to='sex_cor')%>% \n",
    "                    mutate(sex_cor=as.numeric(sex_cor))\n",
    "            \n",
    "                res$e2_cor <- tmp %>% \n",
    "                    filter(measure=='e2_cor') %>% mutate(measure=NULL) %>%\n",
    "                    pivot_longer(everything(),values_to='e2_cor') %>% \n",
    "                    mutate(e2_cor=as.numeric(e2_cor))\n",
    "                \n",
    "                res<-reduce(res,left_join, by='name') %>% \n",
    "                        mutate(node=substr(name,1,nchar(name)-2)) %>%\n",
    "                        mutate(me=substr(name,nchar(name),nchar(name))) %>%\n",
    "                        mutate(name=NULL)\n",
    "                return(res)\n",
    "\n",
    "                \n",
    "            })\n",
    "\n",
    "head(res2$all)"
   ]
  },
  {
   "cell_type": "markdown",
   "metadata": {},
   "source": [
    "## Lovely, now lets calculate pvals within each node for each variable"
   ]
  },
  {
   "cell_type": "code",
   "execution_count": null,
   "metadata": {},
   "outputs": [],
   "source": [
    "res3 <- lapply(res2,\n",
    "              function(tbl){\n",
    "                    holder <-lapply(unique(tbl$node),\n",
    "                               function(nd){\n",
    "                                tmp <- tbl %>% filter(node==nd) \n",
    "                                tmp$cap_p <- corPvalueStudent(tmp$cap_cor, n=tmp$n[1])\n",
    "                                tmp$sys_p <- corPvalueStudent(tmp$sys_cor, n=tmp$n[1])\n",
    "                                tmp$sex_p <- corPvalueStudent(tmp$sex_cor, n=tmp$n[1])\n",
    "                                tmp$e2_p <- corPvalueStudent(tmp$e2_cor, n=tmp$n[1])\n",
    "                                \n",
    "                                return(tmp)\n",
    "                                       })\n",
    "                  \n",
    "                    res<-accumulate(holder, union)[[4]]\n",
    "                  \n",
    "                    return(res)\n",
    "                            })\n",
    "\n",
    "res4<- res3 %>% lapply(mutate,is_cap=(cap_p<=0.05)) %>% lapply(mutate,is_sys=(sys_p<=0.05)) %>%\n",
    "                lapply(mutate,is_sex=(sex_p<=0.05)) %>% lapply(mutate,is_e2=(e2_p<=0.05))\n",
    "head(res4$all)\n"
   ]
  },
  {
   "cell_type": "markdown",
   "metadata": {},
   "source": [
    "## Now lets geta separate table for each comparison"
   ]
  },
  {
   "cell_type": "code",
   "execution_count": null,
   "metadata": {},
   "outputs": [],
   "source": [
    "res_tbls <- list()\n",
    "res_tbls$cap <- res4 %>% lapply(select,c('n','cap_cor','cap_p','is_cap','me','node'))\n",
    "res_tbls$sys <- res4 %>% lapply(select,c('n','sys_cor','sys_p','is_sys','me','node'))\n",
    "res_tbls$sex <- res4 %>% lapply(select,c('n','sex_cor','sex_p','is_sex','me','node'))\n",
    "res_tbls$e2  <- res4 %>% lapply(select,c('n','e2_cor','e2_p','is_e2','me','node'))\n",
    "\n",
    "names(res_tbls)\n",
    "names(res_tbls$cap)\n",
    "head(res_tbls$cap$all)"
   ]
  },
  {
   "cell_type": "code",
   "execution_count": null,
   "metadata": {},
   "outputs": [],
   "source": [
    "#read in and scrub the names`\n",
    "res_tbls2 <- lapply(res_tbls, function(lst){\n",
    "                    tbls <- lapply(lst,function(tbl){\n",
    "                           names(tbl) <- c('n','cors','p','is_sig','me','node')\n",
    "                           return(tbl)\n",
    "                       })\n",
    "                    return(tbls)\n",
    "                   })\n",
    "head(res_tbls2$cap$all)"
   ]
  },
  {
   "cell_type": "code",
   "execution_count": null,
   "metadata": {},
   "outputs": [],
   "source": [
    "library(ggpubr)"
   ]
  },
  {
   "cell_type": "code",
   "execution_count": null,
   "metadata": {},
   "outputs": [],
   "source": [
    "head(res_tbls2)"
   ]
  },
  {
   "cell_type": "code",
   "execution_count": null,
   "metadata": {},
   "outputs": [],
   "source": [
    "#now to make plots\n",
    "#function to grab the legend\n",
    "g_legend<-function(a.gplot){\n",
    "  tmp <- ggplot_gtable(ggplot_build(a.gplot))\n",
    "  leg <- which(sapply(tmp$grobs, function(x) x$name) == \"guide-box\")\n",
    "  legend <- tmp$grobs[[leg]]\n",
    "  return(legend)} \n",
    "                      \n",
    "nms <- names(res_tbls2)\n",
    "names(nms) <- nms\n",
    "plt_lst <- lapply(nms,\n",
    "                  function(nm){\n",
    "\n",
    "                      plts <- map(res_tbls2[[nm]],\n",
    "                                    function(tbl){\n",
    "                                        tbl <- tbl %>% mutate(me=factor(as.factor(me), \n",
    "                                                                       rev(c('A','B','C','D','E',\n",
    "                                                                             'F','G', 'H', 'I', 'J', 'K', 'L'))))\n",
    "                                        plt<- tbl %>% ggplot(aes(x=node,\n",
    "                                                                 y=me,\n",
    "                                                                 fill=node)) +\n",
    "                                            geom_point(aes(size=cors^2,\n",
    "                                                           alpha=-log10(p)),\n",
    "                                                       pch=21) +\n",
    "                                            geom_point(aes(size=cors^2,\n",
    "                                                           color=is_sig, \n",
    "                                                           fill=NULL),\n",
    "                                                       pch=21, stroke=3) +\n",
    "                                            scale_alpha(trans='exp')+\n",
    "                                            scale_fill_brewer(type='qual', palette='Dark2') +\n",
    "                                            scale_size(name='r^2 ',range = c(1, 12)) + \n",
    "                                            scale_color_manual(name='p <= 0.05',values=c(\"grey\",\"black\")) +\n",
    "                                            scale_x_discrete(labels = c(\"AN\", \"DN\", \"LA\", \"STR\"))+\n",
    "                                            theme_grey(base_size=25) +\n",
    "                                            ylab('') + xlab('') + \n",
    "                                            guides(fill=FALSE, alpha=FALSE)+\n",
    "                                            theme(legend.position=\"right\",\n",
    "                                                  legend.box = \"vertical\")\n",
    "                                        return(plt)\n",
    "                                    })\n",
    "                      \n",
    "                      lgnd <- g_legend(plts$all)\n",
    "                      plts <- lapply(plts,function(plt){return(plt + theme(legend.position='none'))})\n",
    "                      \n",
    "                      plts$lgnd <- lgnd\n",
    "                      #plts$dendro <- dendro\n",
    "                      return(plts)\n",
    "})"
   ]
  },
  {
   "cell_type": "code",
   "execution_count": null,
   "metadata": {},
   "outputs": [],
   "source": [
    "options(repr.plot.width=15, repr.plot.height=8)\n",
    "\n",
    "\n",
    "a<-plt_lst$cap$m_tbl +ggtitle('Male VL:\\nSong Sys vs. Surround') + \n",
    "scale_x_discrete(labels=c('LMAN + AN','HVC + DN','RA + LAI','AX + Str')) + \n",
    "theme(axis.text.x=element_text(angle = 270, hjust = 0),plot.title =element_text(size=23) )\n",
    "\n",
    "\n",
    "b<-plt_lst$sys$f_noE_tbl +ggtitle('Female Veh Song Sys:\\nSong Sys vs. Surround') + \n",
    "scale_x_discrete(labels=c('LMAN + AN','HVC + DN','RA + LAI','AX + Str'))+\n",
    "theme(axis.text.x=element_text(angle = 270, hjust=0),plot.title =element_text(size=23) )\n",
    "\n",
    "top<-ggarrange(a,b,NULL,plt_lst$sex$lgnd,nrow=1,widths=c(1,1,.5,.5))"
   ]
  },
  {
   "cell_type": "code",
   "execution_count": null,
   "metadata": {},
   "outputs": [],
   "source": [
    "\n",
    "\n",
    "a<-plt_lst$cap$f_tbl +ggtitle('Female VL: \\nE2 Song Sys. vs Other') + \n",
    "scale_x_discrete(labels=c('LMAN + AN','HVC + DN','RA + LAI','AX + Str')) + \n",
    "theme(axis.text.x=element_text(angle = 270, hjust = 0),plot.title =element_text(size=23) )\n",
    "\n",
    "b<-plt_lst$cap$all_song_veh +ggtitle('Veh VL + Sex:\\nM vs. F Song Sys') + \n",
    "scale_x_discrete(labels=c('LMAN + AN','HVC + DN','RA + LAI','AX + Str'))+\n",
    "theme(axis.text.x=element_text(angle = 270, hjust=0),plot.title =element_text(size=23) )\n",
    "\n",
    "c<-plt_lst$sex$all_surr_veh +ggtitle('Veh Sex: \\nM vs. F Surrounds') + \n",
    "scale_x_discrete(labels=c('LMAN + AN','HVC + DN','RA + LAI','AX + Str'))+\n",
    "theme(axis.text.x=element_text(angle = 270, hjust=0),plot.title =element_text(size=23) )\n",
    "options(repr.plot.width=13, repr.plot.height=16)\n",
    "\n",
    "bottom<- ggarrange(a,b,c,nrow=1,widths=c(1,1,1))\n",
    "\n",
    "ggarrange(top,bottom,nrow=2,heights = c(1,1))"
   ]
  },
  {
   "cell_type": "markdown",
   "metadata": {},
   "source": [
    "## Now I need heatmaps of MEG expressions and rasters relating samples in those heatmaps to variables"
   ]
  },
  {
   "cell_type": "code",
   "execution_count": null,
   "metadata": {},
   "outputs": [],
   "source": [
    "head(me_tbl)\n",
    "unique(me_tbl$me)"
   ]
  },
  {
   "cell_type": "code",
   "execution_count": null,
   "metadata": {},
   "outputs": [],
   "source": [
    "#Put the MEGs in order by size of M\n",
    "me_tbl2 <- me_tbl %>% mutate(me_fct = factor(as.factor(me),\n",
    "                                             c('A','B','C','D','E','F','G', 'H', 'I', 'J', 'K', 'L'))) %>% \n",
    "    mutate(me_int = substr(me,3,4) %>% strtoi )\n",
    "\n",
    "head(me_tbl2)"
   ]
  },
  {
   "cell_type": "code",
   "execution_count": null,
   "metadata": {},
   "outputs": [],
   "source": [
    "#Create a list of tbls subsetted by node\n",
    "node_me_tbls <- me_tbl2 %>% group_by(node) %>% group_split\n",
    "names(node_me_tbls) <- node_me_tbls %>% lapply(function(tbl){return(tbl$node[1])})\n",
    "names(node_me_tbls) "
   ]
  },
  {
   "cell_type": "code",
   "execution_count": null,
   "metadata": {
    "scrolled": true
   },
   "outputs": [],
   "source": [
    "#Create a list of list of sample names, arranged\n",
    "node_me_tbls2 <- node_me_tbls %>% lapply(function(tbl){\n",
    "    \n",
    "    #arrange and get the order\n",
    "    tbl <- tbl %>% arrange(desc(is_song_cap), desc(is_song_sys), desc(is_e2), desc(is_female), animal) \n",
    "    fct_order <- tbl$sample_id %>% unique\n",
    "    \n",
    "    return(tbl %>% \n",
    "               mutate(sample_id=factor(sample_id, fct_order)))\n",
    "    \n",
    "    \n",
    "    })\n",
    "head(node_me_tbls2$dn)"
   ]
  },
  {
   "cell_type": "code",
   "execution_count": null,
   "metadata": {},
   "outputs": [],
   "source": [
    "#handle the node specificstuff for coloring.\n",
    "#I need the vector of mod sizes \n",
    "'%!in%' <- function(x,y)!('%in%'(x,y))\n",
    "mod_size_tbl <- table(net$colors) %>% as.data.frame %>% as_tibble %>% filter(Var1 %!in% c('0','7','13'))\n",
    "\n",
    "mod_size_tbl <- mod_size_tbl %>%\n",
    "    mutate(Var1 = factor(Var1,(unique(mod_size_tbl$Var1)))) %>%\n",
    "    mutate(me = recode_factor(mod_size_tbl$Var1,\n",
    "                                   '1'='A',\n",
    "                                    '2'='B',\n",
    "                                    '3'='C',\n",
    "                                    '4'='D',\n",
    "                                    '5'='E',\n",
    "                                    '6'='F',\n",
    "\n",
    "                                    '8'='G',\n",
    "                                    '9'='H',\n",
    "                                    '10'='I',\n",
    "                                    '11'='J',\n",
    "                                    '12'='K',\n",
    "\n",
    "                                    '14'='L')) %>%\n",
    "    mutate(me = factor(me,unique(me)))\n",
    "\n",
    "head(mod_size_tbl)"
   ]
  },
  {
   "cell_type": "markdown",
   "metadata": {},
   "source": [
    "### Yeah, I should've made a function for this, but I was having a bad day and couldn't be bothered so I copied and pasted"
   ]
  },
  {
   "cell_type": "code",
   "execution_count": null,
   "metadata": {},
   "outputs": [],
   "source": [
    "plts_lst <- list()\n",
    "\n",
    "\n",
    "    \n",
    "me_size <- list()\n",
    "me_size$me_size <- mod_size_tbl %>% ggplot(aes(x=Freq, y=me))+\n",
    "                    geom_bar(stat='identity',aes(fill=me))+\n",
    "                    scale_fill_brewer(palette = 'Set3') +\n",
    "                    scale_fill_manual(values = c('black')) +\n",
    "                    geom_label(aes(x=2500,label=Freq,fill=me),size=8)+\n",
    "                    scale_fill_brewer(palette = 'Set3') +\n",
    "                    scale_y_discrete(limits = rev(levels(mod_size_tbl$me))) +\n",
    "                    theme_grey(base_size=25) + \n",
    "                    ggtitle('# Genes\\nin Module') +\n",
    "                    scale_x_continuous(limits=c(0,5000)) +\n",
    "                    ylab('') + xlab('') +\n",
    "                    theme(axis.text.x=element_blank(),\n",
    "                          axis.text.y=element_text(size=27),\n",
    "                          axis.title.x=element_blank(),\n",
    "                          axis.line=element_blank(),\n",
    "                          axis.ticks=element_blank(),\n",
    "                         legend.position='none')\n",
    " \n",
    "\n",
    "plts_lst$an <- ggplot(node_me_tbls2$an, aes(y=me,x=sample_id, fill=me_expression)) + geom_tile() +\n",
    "    scale_fill_gradient2(low = \"black\",\n",
    "    mid = \"#1b9e77\",\n",
    "    high = \"white\") + \n",
    "    theme_grey(base_size=25) +\n",
    "    ggtitle('\\nLMAN + AN') +\n",
    "    scale_y_discrete(limits = rev(levels(node_me_tbls2$an$me))) +\n",
    "    xlab('') + ylab('') + \n",
    "    theme(legend.text=element_blank(),\n",
    "         legend.title=element_blank(),\n",
    "         axis.title=element_blank(),\n",
    "         axis.text = element_blank(),\n",
    "         axis.ticks = element_blank())\n",
    "\n",
    "plts_lst$dn <- ggplot(node_me_tbls2$dn, aes(y=me,x=sample_id, fill=me_expression)) + geom_tile() +\n",
    "    scale_fill_gradient2(low = \"black\",\n",
    "    mid = \"#d95f02\",\n",
    "    high = \"white\") + \n",
    "    theme_grey(base_size=25) +\n",
    "    scale_y_discrete(limits = rev(levels(node_me_tbls2$dn$me))) +\n",
    "    ggtitle('\\nHVC + DN') +\n",
    "    xlab('') + ylab('') + \n",
    "    theme(legend.text=element_blank(),\n",
    "         legend.title=element_blank(),\n",
    "         axis.title=element_blank(),\n",
    "         axis.text = element_blank(),\n",
    "         axis.ticks = element_blank())\n",
    "\n",
    "plts_lst$la <- ggplot(node_me_tbls2$la, aes(y=me,x=sample_id, fill=me_expression)) + geom_tile() +\n",
    "    scale_fill_gradient2(low = \"black\",\n",
    "    mid = \"#7570b3\",\n",
    "    high = \"white\") +\n",
    "    theme_grey(base_size=25) +\n",
    "    scale_y_discrete(limits = rev(levels(node_me_tbls2$la$me))) +\n",
    "    ggtitle('\\nRA + LAI') +\n",
    "    xlab('') + ylab('') + \n",
    "    theme(legend.text=element_blank(),\n",
    "         legend.title=element_blank(),\n",
    "         axis.title=element_blank(),\n",
    "         axis.text = element_blank(),\n",
    "         axis.ticks = element_blank())\n",
    "\n",
    "plts_lst$str <- ggplot(node_me_tbls2$str, aes(y=me,x=sample_id, fill=me_expression)) +\n",
    "    geom_tile() +\n",
    "    scale_fill_gradient2(\n",
    "        low = \"black\",\n",
    "        mid = \"#e7298a\",\n",
    "        high = \"white\") +\n",
    "    theme_grey(base_size=25) +\n",
    "    scale_y_discrete(limits = rev(levels(node_me_tbls2$str$me))) +\n",
    "    ggtitle('\\nAX + Str') +\n",
    "    xlab('') + ylab('') + \n",
    "    theme(legend.text = element_blank(),\n",
    "         legend.title=element_blank(),\n",
    "         axis.title=element_blank(),\n",
    "         axis.text = element_blank(),\n",
    "         axis.ticks = element_blank())\n",
    "\n",
    "#Get the legends\n",
    "plts_lst_lgnds <- plts_lst %>% lapply(g_legend)\n",
    "\n",
    "#Strip the legends \n",
    "plts_lst <- plts_lst %>% lapply(function(plt){return( plt+theme(legend.position='none'))}) \n",
    "\n",
    "options(repr.plot.width=20, repr.plot.height=10)\n",
    "\n",
    "fig1_2_1 <- ggarrange(plotlist=c(me_size, plts_lst,plts_lst_lgnds),\n",
    "                    widths=c(1,1,1,1,1,.1,.1,.1,.1), nrow=1) %>% \n",
    "                        annotate_figure(left = text_grob(\"Module EigenGene\",rot = 90, \n",
    "                                        face = \"bold\", size = 30)\n",
    "                        )\n",
    "\n",
    "fig1_2_1"
   ]
  },
  {
   "cell_type": "code",
   "execution_count": null,
   "metadata": {},
   "outputs": [],
   "source": [
    "options(repr.plot.width=3, repr.plot.height=3)\n",
    "\n",
    "show(plts_lst_lgnds)"
   ]
  },
  {
   "cell_type": "markdown",
   "metadata": {},
   "source": [
    "## Ok Now I need rasters. First I need to pivot each independ variable wide \n",
    "## So matirx with sample as col, var as row for each region."
   ]
  },
  {
   "cell_type": "code",
   "execution_count": null,
   "metadata": {
    "scrolled": true
   },
   "outputs": [],
   "source": [
    "var_tbls<-lapply(node_me_tbls2,\n",
    "                 function(tbl){\n",
    "                     var_lst<- lapply(c('is_song_cap', 'is_song_sys', 'is_female', 'is_e2'),\n",
    "                            function(nm){\n",
    "                                tbl2 <- tbl %>% select(one_of(c('sample_id',nm))) %>% \n",
    "                                            distinct %>% as.data.frame\n",
    "                                rownames(tbl2) <- tbl2$sample_id\n",
    "                                tbl2$sample_id <- NULL\n",
    "                                tbl2 <- tbl2 %>% t %>% as_tibble %>% mutate(variable=nm)\n",
    "                                \n",
    "                                return(tbl2)\n",
    "                            })\n",
    "                     var_tbl <- bind_rows(var_lst) %>% pivot_longer(cols= -one_of('variable'),\n",
    "                                                                    names_to='sample_id',\n",
    "                                                                    values_to='is_true') %>%\n",
    "                                                    mutate(sample_id = factor(as.factor(sample_id),\n",
    "                                                                             levels(tbl$sample_id))) %>%\n",
    "                                                    mutate(variable = factor(as.factor(variable),\n",
    "                                                                            c('is_female',\n",
    "                                                                             'is_e2',\n",
    "                                                                             'is_song_sys',\n",
    "                                                                             'is_song_cap')))\n",
    "\n",
    "                     return(var_tbl)\n",
    "                 })\n",
    "\n",
    "head(var_tbls$an)"
   ]
  },
  {
   "cell_type": "code",
   "execution_count": null,
   "metadata": {},
   "outputs": [],
   "source": [
    "raster_lst <- lapply(var_tbls,\n",
    "                    function(tbl){\n",
    "                        plt<- tbl %>%\n",
    "                            ggplot(aes(x=sample_id,y=variable,fill=as.logical(is_true))) +\n",
    "                            geom_tile() +\n",
    "                            theme_grey(base_size=25)+\n",
    "                            scale_fill_manual(values = c(\"grey\", \"black\")) +\n",
    "                            theme(legend.title=element_blank(),\n",
    "                              axis.title =element_blank(),\n",
    "                              axis.text = element_blank(),\n",
    "                              axis.ticks = element_blank())\n",
    "                        return(plt)\n",
    "                    })\n",
    "\n",
    "raster_lst$lgnd <- g_legend(raster_lst$an)\n",
    "\n",
    "var_lbl <- tibble(var=factor(as.factor(c('Vocal Learning:',\n",
    "                'Song System:',\n",
    "                'Estradiol Treated:',\n",
    "                'Female:')), \n",
    "                c('Female:',\n",
    "                'Estradiol Treated:',\n",
    "                'Song System:',\n",
    "                'Vocal Learning:')))\n",
    "\n",
    "raster_lbl <- ggplot(var_lbl,aes(x=1,y=var)) +\n",
    "        geom_text(aes(label=var), stat='identity',size=6.5,hjust=1) +\n",
    "        theme_classic(base_size=25) +\n",
    "         xlim(0, 1) +\n",
    "        theme(legend.title=element_blank(),\n",
    "            axis.title = element_blank(),\n",
    "            axis.text = element_blank(),\n",
    "            axis.ticks = element_blank(),\n",
    "            axis.line = element_line(color='white'))\n",
    "\n",
    "\n",
    "fig1_2_2 <- ggarrange(raster_lbl,\n",
    "         raster_lst$an +theme(legend.position='none'),\n",
    "         raster_lst$dn +theme(legend.position='none'),\n",
    "         raster_lst$la +theme(legend.position='none'),\n",
    "         raster_lst$str +theme(legend.position='none'),\n",
    "         raster_lst$lgnd, \n",
    "         nrow=1, widths=c(1,1,1,1,1,.4)) %>% \n",
    "                        annotate_figure(left = text_grob(\"Factors\",rot = 90, \n",
    "                                        face = \"bold\", size = 30))\n",
    "\n",
    "options(repr.plot.width=20, repr.plot.height=10)\n",
    "fig1_2 <- ggarrange(fig1_2_1,fig1_2_2,nrow=2,heights=c(1,.3))\n",
    "fig1_2"
   ]
  },
  {
   "cell_type": "markdown",
   "metadata": {},
   "source": [
    "### I'd like a nice dendrogram too"
   ]
  },
  {
   "cell_type": "code",
   "execution_count": null,
   "metadata": {},
   "outputs": [],
   "source": [
    "library(RColorBrewer)"
   ]
  },
  {
   "cell_type": "code",
   "execution_count": null,
   "metadata": {},
   "outputs": [],
   "source": [
    "unique(net$colors)\n",
    "net$colors[which(net$colors>13)] <- net$colors[which(net$colors>13)] -1\n",
    "net$colors[which(net$colors>7)] <- net$colors[which(net$colors>7)] -1\n",
    "net$colors[which(net$colors==0)] <- 13\n",
    "\n",
    "unique(net$colors)"
   ]
  },
  {
   "cell_type": "code",
   "execution_count": null,
   "metadata": {},
   "outputs": [],
   "source": [
    "pal <- c(brewer.pal(12, 'Set3'),'#000000') \n",
    "\n",
    "\n",
    "mergedColors = labels2colors(net$colors, zeroIsGrey = TRUE,\n",
    "                            colorSeq = pal)\n",
    "\n",
    "options(repr.plot.width=10, repr.plot.height=7)\n",
    "\n",
    "plotDendroAndColors(net$input_data$unrecut_net$dendrograms[[1]], \n",
    "    mergedColors[net$input_data$unrecut_net$blockGenes[[1]]],\n",
    "    '', ylab='' , main='',\n",
    "    axes=FALSE,\n",
    "    dendroLabels = FALSE, hang = 0.01,\n",
    "    addGuide = TRUE, guideHang = .01,\n",
    "    setLayout = TRUE,\n",
    "    autoColorHeight = FALSE, colorHeight=.25)\n"
   ]
  },
  {
   "cell_type": "markdown",
   "metadata": {},
   "source": [
    "## Boom. I need to hack a legend for it, use the size plot"
   ]
  },
  {
   "cell_type": "code",
   "execution_count": null,
   "metadata": {},
   "outputs": [],
   "source": [
    "options(repr.plot.width=2, repr.plot.height=5)\n",
    "\n",
    "gene_tree_lgnd <- mod_size_tbl %>% ggplot(aes(x=Freq, y=me))+\n",
    "                    geom_bar(stat='identity',aes(fill=me))+\n",
    "                    scale_fill_brewer(name='Module',palette = 'Set3') +\n",
    "                    theme_classic(base_size=25) + \n",
    "                    theme(legend.position='right') \n",
    "\n",
    "gene_tree_lgnd <- gene_tree_lgnd %>% g_legend %>% ggarrange\n",
    "gene_tree_lgnd"
   ]
  },
  {
   "cell_type": "markdown",
   "metadata": {},
   "source": [
    "### WOOO!!! I think that's a great place to wrap that up for now. Might come back and make some more heatmaps at some point, but boom. I think that all looks awesome. Lets add res to net (which has been slightly modified) and save the thing out."
   ]
  },
  {
   "cell_type": "code",
   "execution_count": null,
   "metadata": {},
   "outputs": [],
   "source": [
    "net$node_me_tbls2 <- NULL\n",
    "net$MEG_res_tbls <- res_tbls2\n",
    "net$node_me_tbls <- node_me_tbls2\n",
    "names(net)"
   ]
  },
  {
   "cell_type": "code",
   "execution_count": null,
   "metadata": {},
   "outputs": [],
   "source": [
    "saveRDS(net, '3_wgcna_net_associatedToTraits.rds')"
   ]
  },
  {
   "cell_type": "markdown",
   "metadata": {},
   "source": [
    "## MEG a specialization to RA would probably com out if I paired the data or otherwise accounted for that outlier animal. Lets do a quick and dirty non-parametric test"
   ]
  },
  {
   "cell_type": "code",
   "execution_count": null,
   "metadata": {},
   "outputs": [],
   "source": [
    "x <- net$node_me_tbls$la %>% filter(me=='A') %>% filter(is_female == 0) %>% filter(is_song_cap==1) %>% select(me_expression) \n",
    "y <- net$node_me_tbls$la %>% filter(me=='A') %>% filter(is_female == 0) %>% filter(is_song_cap==0) %>% select(me_expression)\n",
    "wilcox.test(x=x%>%as.matrix,y=y%>%as.matrix)"
   ]
  },
  {
   "cell_type": "markdown",
   "metadata": {},
   "source": [
    "# 4 - Defining Continuous Module Membership"
   ]
  },
  {
   "cell_type": "code",
   "execution_count": null,
   "metadata": {},
   "outputs": [],
   "source": [
    "# Specify the lib path\n",
    "lib_path<-paste(getwd(),'/hana_reanalysis_lib',sep='')\n",
    "print(lib_path)\n",
    "\n",
    "# Set the path\n",
    ".libPaths(lib_path)\n",
    ".libPaths()"
   ]
  },
  {
   "cell_type": "code",
   "execution_count": null,
   "metadata": {},
   "outputs": [],
   "source": [
    "library(tidyverse)\n",
    "library(WGCNA)"
   ]
  },
  {
   "cell_type": "code",
   "execution_count": null,
   "metadata": {},
   "outputs": [],
   "source": [
    "net <- readRDS('3_wgcna_net_associatedToTraits.rds')\n",
    "names(net)"
   ]
  },
  {
   "cell_type": "markdown",
   "metadata": {},
   "source": [
    "## First, lets wrangle that colors thing into a nice tibble."
   ]
  },
  {
   "cell_type": "code",
   "execution_count": null,
   "metadata": {},
   "outputs": [],
   "source": [
    "gene_tbl <- net$colors %>% as.data.frame\n",
    "colnames(gene_tbl) <- 'me_assigned'\n",
    "gene_tbl$gene_id<- row.names(gene_tbl)\n",
    "gene_tbl <- gene_tbl %>% as_tibble %>% mutate(me_assigned = recode_factor(as.factor(me_assigned),\n",
    "                                                        '1'='A',\n",
    "                                                        '2'='B',\n",
    "                                                        '3'='C',\n",
    "                                                        '4'='D',\n",
    "                                                        '5'='E',\n",
    "                                                        '6'='F',\n",
    "\n",
    "                                                        '7'='G',\n",
    "                                                        '8'='H',\n",
    "                                                        '9'='I',\n",
    "                                                        '10'='J',\n",
    "                                                        '11'='K',\n",
    "\n",
    "                                                        '12'='L',\n",
    "                                                        '13'='X'))\n",
    "head(gene_tbl)\n",
    "levels(gene_tbl$me_assigned)"
   ]
  },
  {
   "cell_type": "markdown",
   "metadata": {},
   "source": [
    "## Now get the expression of genes (row samples cols genes and MEGs)"
   ]
  },
  {
   "cell_type": "code",
   "execution_count": null,
   "metadata": {},
   "outputs": [],
   "source": [
    "gene_mod_cor_tbl <- net$input_data$fpkm %>% as_tibble(rownames='sample_id') \n",
    "head(gene_mod_cor_tbl)"
   ]
  },
  {
   "cell_type": "code",
   "execution_count": null,
   "metadata": {},
   "outputs": [],
   "source": [
    "mes <- net$MEs\n",
    "names(mes)"
   ]
  },
  {
   "cell_type": "code",
   "execution_count": null,
   "metadata": {},
   "outputs": [],
   "source": [
    "names(mes) = c('B', 'G', 'D', 'J', 'A', 'L', 'E', 'K', 'F', 'H', 'C', 'I', 'sample_id')\n",
    "Mes <- mes %>% as_tibble(rownames='sample_id') \n",
    "gene_mod_cor_tbl <- left_join(mes,gene_mod_cor_tbl)\n",
    "head(gene_mod_cor_tbl)"
   ]
  },
  {
   "cell_type": "markdown",
   "metadata": {},
   "source": [
    "## Now I need to correlate each of the genes to each of the MEGs across samples\n",
    "## I want a matrix with cols = genes, rows = MEGs, value is results of WGCNA cor "
   ]
  },
  {
   "cell_type": "code",
   "execution_count": null,
   "metadata": {},
   "outputs": [],
   "source": [
    "megs <-c('A', 'B', 'C', 'D', 'E', 'F', 'G', 'H', 'I', 'J', 'K', 'L')\n",
    "res <- gene_mod_cor_tbl %>% select(one_of(megs)) %>%\n",
    "    lapply(function(meg){\n",
    "        res <- gene_mod_cor_tbl %>% select(-one_of(c(megs,'sample_id'))) %>%\n",
    "            lapply(function(gene){\n",
    "                return(cor(gene,meg))\n",
    "            })\n",
    "        return(res)\n",
    "    })"
   ]
  },
  {
   "cell_type": "code",
   "execution_count": null,
   "metadata": {},
   "outputs": [],
   "source": [
    "res2 <- res %>% as_tibble \n"
   ]
  },
  {
   "cell_type": "code",
   "execution_count": null,
   "metadata": {
    "scrolled": true
   },
   "outputs": [],
   "source": [
    "res3 <- res2 %>% mutate(gene_id = names(res2$A)) %>% mutate_at(megs,as.numeric) %>% left_join(gene_tbl)\n",
    "head(res3)"
   ]
  },
  {
   "cell_type": "code",
   "execution_count": null,
   "metadata": {},
   "outputs": [],
   "source": [
    "saveRDS(res3,'4_mod_membership_all_genes.rds')"
   ]
  },
  {
   "cell_type": "markdown",
   "metadata": {},
   "source": [
    "# 5 - Module GO and Convergent Signature Enrichment "
   ]
  },
  {
   "cell_type": "code",
   "execution_count": null,
   "metadata": {},
   "outputs": [],
   "source": [
    "# Specify the lib path\n",
    "lib_path<-paste(getwd(),'/hana_reanalysis_lib',sep='')\n",
    "print(lib_path)\n",
    "\n",
    "# Set the path\n",
    ".libPaths(lib_path)\n",
    ".libPaths()"
   ]
  },
  {
   "cell_type": "code",
   "execution_count": null,
   "metadata": {
    "scrolled": false
   },
   "outputs": [],
   "source": [
    "library(tidyverse)\n",
    "library(ggpubr)"
   ]
  },
  {
   "cell_type": "code",
   "execution_count": null,
   "metadata": {},
   "outputs": [],
   "source": [
    "mod_mem <- readRDS('mod_membership_all_genes.rds')\n",
    "head(mod_mem)"
   ]
  },
  {
   "cell_type": "code",
   "execution_count": null,
   "metadata": {},
   "outputs": [],
   "source": [
    "#BiocManager::install(\"gage\")\n",
    "#BiocManager::install(\"gageData\")\n",
    "\n",
    "library(gage)\n",
    "library(gageData)"
   ]
  },
  {
   "cell_type": "markdown",
   "metadata": {},
   "source": [
    "### Quick look"
   ]
  },
  {
   "cell_type": "code",
   "execution_count": null,
   "metadata": {},
   "outputs": [],
   "source": [
    "assigned_genes <- mod_mem %>% filter(me_assigned != 'X') %>% dplyr::select('gene_id','me_assigned')\n",
    "head(assigned_genes)\n",
    "dim(assigned_genes)"
   ]
  },
  {
   "cell_type": "markdown",
   "metadata": {},
   "source": [
    "## To do ontology I need to map z finch genes to human orthologs. FUN"
   ]
  },
  {
   "cell_type": "code",
   "execution_count": null,
   "metadata": {},
   "outputs": [],
   "source": [
    "#BiocManager::install(\"org.Hs.eg.db\")\n",
    "#BiocManager::install(\"AnnotationDbi\")\n",
    "#BiocManager::install(\"biomaRt\")\n",
    "#BiocManager::install(\"GO.db\")\n",
    "\n",
    "library(GO.db)\n",
    "library(org.Hs.eg.db)\n",
    "library(AnnotationDbi)\n",
    "library(biomaRt)"
   ]
  },
  {
   "cell_type": "markdown",
   "metadata": {},
   "source": [
    "## Stolen from Greg"
   ]
  },
  {
   "cell_type": "code",
   "execution_count": null,
   "metadata": {},
   "outputs": [],
   "source": [
    "getOrthos <- function(input_org,output_org,one2one) {\n",
    "  tmp_input <- paste(input_org,\"_gene_ensembl\",sep = \"\")\n",
    "  tmp_mart <- useMart(\"ensembl\", dataset = tmp_input,host = \"www.ensembl.org\",ensemblRedirect = FALSE)\n",
    "  tmp_attr <- listAttributes(tmp_mart)\n",
    "  tmp_genes <- getBM(attributes = c(\"ensembl_gene_id\", \"gene_biotype\"), mart = tmp_mart)\n",
    "  tmp_genes <- tmp_genes[grep(\"protein_coding\",tmp_genes$gene_biotype),]\n",
    "  attr_names <- tmp_attr[grep(output_org,tmp_attr$name),\"name\"]\n",
    "  tmp_orthos <- getBM(attributes = c(\"ensembl_gene_id\",\"external_gene_name\",attr_names), filters = \"ensembl_gene_id\",values = tmp_genes$ensembl_gene_id, mart = tmp_mart)  \n",
    "  \n",
    "  if(one2one == TRUE){\n",
    "  tmp_orthos <- tmp_orthos[grep(\"ortholog_one2one\",tmp_orthos[,paste(output_org,\"_homolog_orthology_type\",sep = \"\")]),]\n",
    "  }\n",
    "\n",
    "  if(one2one == FALSE){\n",
    "    tmp_orthos <- tmp_orthos\n",
    "  }\n",
    "  \n",
    "  tmp_orthos\n",
    "\n",
    "}"
   ]
  },
  {
   "cell_type": "markdown",
   "metadata": {},
   "source": [
    "### Make the conversion table"
   ]
  },
  {
   "cell_type": "code",
   "execution_count": null,
   "metadata": {},
   "outputs": [],
   "source": [
    "convert_table <- getOrthos(\"tguttata\",\"hsapiens\",TRUE) %>% as_tibble %>% \n",
    "    dplyr::select(external_gene_name, hsapiens_homolog_associated_gene_name, hsapiens_homolog_ensembl_gene ) %>%\n",
    "    mutate(gene_id = external_gene_name) %>% mutate(external_gene_name = NULL) %>%\n",
    "    mutate(hsap_gene_id = hsapiens_homolog_associated_gene_name) %>% mutate(hsapiens_homolog_associated_gene_name = NULL) %>%\n",
    "    mutate(hsap_ensembl_id = hsapiens_homolog_ensembl_gene) %>% mutate(hsapiens_homolog_ensembl_gene = NULL) \n",
    "\n",
    "head(convert_table)"
   ]
  },
  {
   "cell_type": "code",
   "execution_count": null,
   "metadata": {},
   "outputs": [],
   "source": [
    "assigned_genes2 <- assigned_genes %>% left_join(convert_table, by='gene_id') %>% filter(hsap_ensembl_id != 'NA')\n",
    "head(assigned_genes2)\n",
    "dim(assigned_genes2)"
   ]
  },
  {
   "cell_type": "markdown",
   "metadata": {},
   "source": [
    "## Ok now to get to the super informative GO stuff"
   ]
  },
  {
   "cell_type": "code",
   "execution_count": null,
   "metadata": {},
   "outputs": [],
   "source": [
    "data(go.sets.hs)\n",
    "data(go.subs.hs)"
   ]
  },
  {
   "cell_type": "code",
   "execution_count": null,
   "metadata": {},
   "outputs": [],
   "source": [
    "mods <- unique(assigned_genes2$me_assigned %>% as.character)\n",
    "names(mods) <- mods\n",
    "\n",
    "gage_res_discrete <- mods %>% lapply(function(mod){\n",
    "\n",
    "    gage_tbl <- assigned_genes2 %>% mutate(inModule = as.numeric(me_assigned==mod))  %>% \n",
    "                    dplyr::select(hsap_ensembl_id,inModule)\n",
    "\n",
    "    gage_exprs <- gage_tbl$inModule %>% as.matrix\n",
    "    rownames(gage_exprs) <- gage_tbl$hsap_ensembl_id\n",
    "    return (gage(gage_exprs, gsets = go_terms, ref = NULL, samp = NULL)$greater %>%\n",
    "                as.data.frame %>% as_tibble(rownames='GO_id')%>% filter(p.val<1))\n",
    "})"
   ]
  },
  {
   "cell_type": "markdown",
   "metadata": {},
   "source": [
    "## Lil wrangle"
   ]
  },
  {
   "cell_type": "code",
   "execution_count": null,
   "metadata": {},
   "outputs": [],
   "source": [
    "gage_res_discrete2 <- mods %>% lapply(function(mod){\n",
    "    gage_res_discrete[[mod]] %>% mutate(module=mod)\n",
    "})"
   ]
  },
  {
   "cell_type": "code",
   "execution_count": null,
   "metadata": {},
   "outputs": [],
   "source": [
    "gage_p_arranged <- gage_res_discrete2 %>% lapply(arrange,p.val)\n",
    "gage_p_arranged2 <- gage_p_arranged %>% lapply(function(tbl){\n",
    "    tbl %>% mutate(GO_id=factor(as.factor(GO_id),levels=unique(tbl$GO_id)%>%rev))\n",
    "})"
   ]
  },
  {
   "cell_type": "code",
   "execution_count": null,
   "metadata": {},
   "outputs": [],
   "source": [
    "sig_G_go<-gage_p_arranged2$G %>% filter(p.val<=0.05)\n",
    "sig_E_go<-gage_p_arranged2$E %>% filter(p.val<=0.05)"
   ]
  },
  {
   "cell_type": "markdown",
   "metadata": {},
   "source": [
    "### How's it look?"
   ]
  },
  {
   "cell_type": "code",
   "execution_count": null,
   "metadata": {},
   "outputs": [],
   "source": [
    "sig_G_go\n",
    "sig_E_go"
   ]
  },
  {
   "cell_type": "markdown",
   "metadata": {},
   "source": [
    "## Need to get go terms, not just IDs. What a pain"
   ]
  },
  {
   "cell_type": "code",
   "execution_count": null,
   "metadata": {},
   "outputs": [],
   "source": [
    "library(GO.db)\n",
    "\n",
    "# extract a named vector of all terms\n",
    "goterms <- Term(GOTERM)\n",
    "GOids <- names(goterms)\n",
    "\n",
    "GO_terms_tbl <- tibble(GOterms=goterms,GOids=GOids)"
   ]
  },
  {
   "cell_type": "code",
   "execution_count": null,
   "metadata": {},
   "outputs": [],
   "source": [
    "sig_G_go2 <- sig_G_go %>% mutate(GOids = GO_id) %>% mutate(GO_id=NULL) %>% left_join(GO_terms_tbl,by='GOids')\n",
    "\n",
    "sig_E_go2 <- sig_E_go %>% mutate(GOids = GO_id) %>% mutate(GO_id=NULL) %>% left_join(GO_terms_tbl,by='GOids')"
   ]
  },
  {
   "cell_type": "code",
   "execution_count": null,
   "metadata": {},
   "outputs": [],
   "source": [
    "sig_G_go3 <- sig_G_go2 %>% mutate(p=p.val)%>% mutate(p=signif(p,2)) %>% mutate(GOid=GOids) %>%\n",
    "    mutate(GOterm=GOterms)%>%dplyr::select(GOterm,GOid,p)\n",
    "sig_E_go3 <- sig_E_go2 %>% mutate(p=p.val)%>% mutate(p=signif(p,2)) %>% mutate(GOid=GOids) %>%\n",
    "    mutate(GOterm=GOterms)%>%dplyr::select(GOterm,GOid,p)\n",
    "\n",
    "sig_G_go3\n",
    "sig_E_go3"
   ]
  },
  {
   "cell_type": "markdown",
   "metadata": {},
   "source": [
    "### Make a pretty table using below code, fiddled with here: https://www.w3schools.com/html/html_tables.asp"
   ]
  },
  {
   "cell_type": "code",
   "execution_count": null,
   "metadata": {},
   "outputs": [],
   "source": [
    "library(stargazer)"
   ]
  },
  {
   "cell_type": "code",
   "execution_count": null,
   "metadata": {},
   "outputs": [],
   "source": [
    "star1<-stargazer(sig_G_go3,type='html',summary = FALSE,rownames=FALSE,title='Module G: Significantly Enriched GO')"
   ]
  },
  {
   "cell_type": "markdown",
   "metadata": {},
   "source": [
    "## Now I gotta do something similar for the RA and HVC convergent gene signatures to LMC. Probably want some kind of bubble plot."
   ]
  },
  {
   "cell_type": "code",
   "execution_count": null,
   "metadata": {},
   "outputs": [],
   "source": [
    "ra_raw <- read.csv2(file='ra_lmc_sharedGenes.csv',header = TRUE,sep = ',')\n",
    "hvc_raw <- read.csv2(file='hvc_lmc_sharedGenes.csv',header = TRUE,sep = ',')\n"
   ]
  },
  {
   "cell_type": "code",
   "execution_count": null,
   "metadata": {},
   "outputs": [],
   "source": [
    "greg_enrich_list <- list()\n",
    "greg_enrich_list$RA <- ra_raw$gene %>% as.character\n",
    "greg_enrich_list$HVC <- hvc_raw$gene %>% as.character\n",
    "\n",
    "greg_enrich_list$RA\n",
    "greg_enrich_list$HVC"
   ]
  },
  {
   "cell_type": "code",
   "execution_count": null,
   "metadata": {},
   "outputs": [],
   "source": [
    "gage_res_greg_convergent <- mods %>% lapply(function(mod){\n",
    "\n",
    "    gage_tbl <- assigned_genes2 %>% mutate(inModule = as.numeric(me_assigned==mod))  %>% \n",
    "                    dplyr::select(hsap_ensembl_id,inModule)\n",
    "\n",
    "    gage_exprs <- gage_tbl$inModule %>% as.matrix\n",
    "    rownames(gage_exprs) <- gage_tbl$hsap_ensembl_id\n",
    "    return (gage(gage_exprs, gsets = greg_enrich_list, ref = NULL, samp = NULL)$greater %>%\n",
    "                as.data.frame %>% as_tibble(rownames='GO_id')#%>% filter(p.val<1)\n",
    "           )\n",
    "})\n",
    "\n",
    "gage_res_greg_convergent2<- mods %>% lapply(function(mod){\n",
    "    gage_res_greg_convergent[[mod]] %>% mutate(module=mod)\n",
    "}) %>% purrr::reduce(rbind)\n",
    "\n"
   ]
  },
  {
   "cell_type": "code",
   "execution_count": null,
   "metadata": {},
   "outputs": [],
   "source": [
    "head(gage_res_greg_convergent2 )"
   ]
  },
  {
   "cell_type": "markdown",
   "metadata": {},
   "source": [
    "### Erich wants to see the actual enrichment value for this"
   ]
  },
  {
   "cell_type": "code",
   "execution_count": null,
   "metadata": {},
   "outputs": [],
   "source": [
    "convergent_fold_enrichment <- mods %>% lapply(function(mod){\n",
    "    n_hvc_convergent <- length(greg_enrich_list$HVC)\n",
    "    n_ra_convergent  <- length(greg_enrich_list$RA)\n",
    "    \n",
    "    total_genes <- assigned_genes2$gene_id %>% length\n",
    "    \n",
    "    tmp_tbl <- assigned_genes2 %>% filter(me_assigned == mod)\n",
    "    mod_total <- tmp_tbl$gene_id %>% length\n",
    "    \n",
    "    ra_tbl <- tmp_tbl %>% filter(hsap_ensembl_id %in% greg_enrich_list$RA)\n",
    "    n_ra <- ra_tbl$gene_id %>% length\n",
    "    hvc_tbl <- tmp_tbl %>% filter(hsap_ensembl_id %in% greg_enrich_list$HVC)\n",
    "    n_hvc <- hvc_tbl$gene_id %>% length\n",
    "    \n",
    "    expected_fraction_ra  <- (n_ra_convergent / total_genes) * (mod_total / total_genes)\n",
    "    expected_fraction_hvc <- (n_hvc_convergent / total_genes) * (mod_total / total_genes)\n",
    "\n",
    "    observed_fraction_ra  <- n_ra / total_genes\n",
    "    observed_fraction_hvc <- n_hvc / total_genes\n",
    "    res <- tibble(GO_id = c('RA','HVC'),\n",
    "                  module = c(mod,mod),\n",
    "                  fold_expected = c(observed_fraction_ra/expected_fraction_ra,\n",
    "                                    observed_fraction_hvc/expected_fraction_hvc),\n",
    "                  mod_size=mod_total)\n",
    "    return(res)\n",
    "    \n",
    "}) %>% purrr::reduce(rbind)"
   ]
  },
  {
   "cell_type": "code",
   "execution_count": null,
   "metadata": {},
   "outputs": [],
   "source": [
    "gage_res_greg_convergent3 <- gage_res_greg_convergent2 %>% \n",
    "    left_join(convergent_fold_enrichment, by=c('module','GO_id')) %>% mutate(is_sig=q.val<=0.1)"
   ]
  },
  {
   "cell_type": "code",
   "execution_count": null,
   "metadata": {},
   "outputs": [],
   "source": [
    "#function to grab the legend\n",
    "g_legend<-function(a.gplot){\n",
    "  tmp <- ggplot_gtable(ggplot_build(a.gplot))\n",
    "  leg <- which(sapply(tmp$grobs, function(x) x$name) == \"guide-box\")\n",
    "  legend <- tmp$grobs[[leg]]\n",
    "  return(legend)} "
   ]
  },
  {
   "cell_type": "code",
   "execution_count": null,
   "metadata": {},
   "outputs": [],
   "source": [
    "options(repr.plot.width=10, repr.plot.height=9)\n",
    "\n",
    "converge_plter <- function(reg){\n",
    "    gage_res_greg_convergent3 %>% filter(GO_id==reg) %>%\n",
    "    ggplot(aes(x=mod_size,\n",
    "               y=fold_expected,\n",
    "               fill=module,color=is_sig, \n",
    "               size = -log10(p.val)))+\n",
    "        geom_hline(yintercept=1,color='black',size=2) + \n",
    "        geom_point(data=gage_res_greg_convergent3%>% filter(GO_id==reg) %>% filter(is_sig==FALSE),shape=21,stroke=2) + \n",
    "        geom_point(data=gage_res_greg_convergent3%>% filter(GO_id==reg) %>% filter(is_sig==TRUE),shape=21,stroke=2) + \n",
    "        scale_fill_brewer('Module',palette='Set3')+\n",
    "        scale_color_manual('p <= 0.05', values=c('grey','black'))+\n",
    "        scale_size_continuous('-log10(p)', range=c(1,10), breaks=c(0,1.25,2.5),limits=c(0,2.5))+\n",
    "        theme_grey(base_size=25) +\n",
    "        scale_y_continuous('Fold Enrichment',breaks=c(0,.5,1,1.5,2),limits=c(0,2))+\n",
    "        scale_x_continuous('')+ \n",
    "        ggtitle(reg)+\n",
    "        guides(fill = guide_legend(override.aes = list(size=10)))}\n",
    "\n",
    "hvc_plt <- converge_plter('HVC') + ggtitle('HVC convergent specialization')\n",
    "lgnd<- g_legend(hvc_plt)\n",
    "ra_plt <- converge_plter('RA') +theme(legend.position='none') +scale_x_continuous('Module Size') + ggtitle(\"RA convergent specialization\")\n",
    "hvc_plt <- hvc_plt+theme(legend.position='none')+xlab('')\n",
    "\n",
    "\n",
    "col1 <- ggarrange(hvc_plt,ra_plt,nrow=2,heights = c(1,1.05))\n",
    "ggarrange(col1,lgnd,widths=c(1,.5))"
   ]
  },
  {
   "cell_type": "markdown",
   "metadata": {},
   "source": [
    "### Who are these genes in B?"
   ]
  },
  {
   "cell_type": "code",
   "execution_count": null,
   "metadata": {},
   "outputs": [],
   "source": [
    "assigned_genes2 %>% filter(me_assigned == 'B') %>% filter(hsap_ensembl_id %in% greg_enrich_list$HVC)"
   ]
  },
  {
   "cell_type": "markdown",
   "metadata": {},
   "source": [
    "# 6 - Core gene analysis"
   ]
  },
  {
   "cell_type": "code",
   "execution_count": null,
   "metadata": {},
   "outputs": [],
   "source": [
    "# Specify the lib path\n",
    "lib_path<-paste(getwd(),'/hana_reanalysis_lib',sep='')\n",
    "print(lib_path)\n",
    "\n",
    "# Set the path\n",
    ".libPaths(lib_path)\n",
    ".libPaths()"
   ]
  },
  {
   "cell_type": "code",
   "execution_count": null,
   "metadata": {},
   "outputs": [],
   "source": [
    "library(tidyverse)\n",
    "library(WGCNA)\n",
    "library(ggpubr)"
   ]
  },
  {
   "cell_type": "code",
   "execution_count": null,
   "metadata": {},
   "outputs": [],
   "source": [
    "nets <- readRDS('1_wgcna_recut_nets.rds')\n",
    "fpkm <- nets$input_data$fpkm %>% as_tibble(rownames='sample_id')\n",
    "\n",
    "hana_design <- read.csv('hana_variables_by_sample.csv', header=TRUE, stringsAsFactors=FALSE)\n",
    "\n",
    "#remove those samples I had to remove before\n",
    "hana_design <- hana_design %>% filter(!sample_id %in% c(\"fv_ra_2\", \"mv_hvc_1\")) %>% as_tibble"
   ]
  },
  {
   "cell_type": "code",
   "execution_count": null,
   "metadata": {},
   "outputs": [],
   "source": [
    "names(nets$input_data)"
   ]
  },
  {
   "cell_type": "code",
   "execution_count": null,
   "metadata": {},
   "outputs": [],
   "source": [
    "head(fpkm)\n",
    "head(hana_design)"
   ]
  },
  {
   "cell_type": "code",
   "execution_count": null,
   "metadata": {},
   "outputs": [],
   "source": [
    "fpkm <- fpkm %>% pivot_longer(-one_of('sample_id'),\n",
    "                              names_to='gene_id',\n",
    "                              values_to='fpkm')\n",
    "head(fpkm)"
   ]
  },
  {
   "cell_type": "code",
   "execution_count": null,
   "metadata": {},
   "outputs": [],
   "source": [
    "fpkm <- left_join(hana_design,fpkm,by='sample_id')\n",
    "head(fpkm)"
   ]
  },
  {
   "cell_type": "markdown",
   "metadata": {},
   "source": [
    "## Now the mod memberships"
   ]
  },
  {
   "cell_type": "code",
   "execution_count": null,
   "metadata": {},
   "outputs": [],
   "source": [
    "mod_mem <- readRDS('4_mod_membership_all_genes.rds')\n",
    "head(mod_mem)"
   ]
  },
  {
   "cell_type": "code",
   "execution_count": null,
   "metadata": {},
   "outputs": [],
   "source": [
    "mod_mem <- mod_mem %>% pivot_longer(-one_of(c('gene_id','me_assigned')),\n",
    "                                    names_to='module',\n",
    "                                    values_to='membership')\n",
    "head(mod_mem)"
   ]
  },
  {
   "cell_type": "markdown",
   "metadata": {},
   "source": [
    "## First thing is to make a list of tibbles, subset from fpkm. One for each set within which I'm computing gene significance."
   ]
  },
  {
   "cell_type": "code",
   "execution_count": null,
   "metadata": {},
   "outputs": [],
   "source": [
    "gen_list <- list()\n",
    "\n",
    "gen_list$m_an <- fpkm %>% filter(sex=='m') %>% filter(node=='an')\n",
    "gen_list$f_an <- fpkm %>% filter(sex=='f') %>% filter(node=='an')\n",
    "\n",
    "gen_list$m_dn <- fpkm %>% filter(sex=='m') %>% filter(node=='dn')\n",
    "gen_list$f_dn <- fpkm %>% filter(sex=='f') %>% filter(node=='dn')\n",
    "\n",
    "gen_list$m_la <- fpkm %>% filter(sex=='m') %>% filter(node=='la')\n",
    "gen_list$f_la <- fpkm %>% filter(sex=='f') %>% filter(node=='la')\n",
    "\n",
    "gen_list$m_str <- fpkm %>% filter(sex=='m') %>% filter(node=='str')\n",
    "gen_list$f_str <- fpkm %>% filter(sex=='f') %>% filter(node=='str')\n",
    "\n",
    "gen_list$f_an_v <- fpkm %>% filter(sex=='f') %>% filter(node=='an') %>% filter(dose=='v')\n",
    "gen_list$f_dn_v <- fpkm %>% filter(sex=='f') %>% filter(node=='dn') %>% filter(dose=='v')  \n",
    "gen_list$f_la_v <- fpkm %>% filter(sex=='f') %>% filter(node=='la') %>% filter(dose=='v')  \n",
    "gen_list$f_str_v <- fpkm %>% filter(sex=='f') %>% filter(node=='str') %>% filter(dose=='v')  \n",
    "\n",
    "gen_list$fm_lman_v <- fpkm %>% filter(region=='lman') %>% filter(dose=='v')\n",
    "gen_list$fm_hvc_v <-  fpkm %>% filter(region=='hvc') %>% filter(dose=='v')\n",
    "gen_list$fm_ra_v <-   fpkm %>% filter(region=='ra') %>% filter(dose=='v')\n",
    "gen_list$fm_ax_v <-   fpkm %>% filter(region=='ax') %>% filter(dose=='v')\n",
    "\n",
    "gen_list$f_lman <- fpkm %>% filter(region=='lman') %>% filter(sex=='f')\n",
    "gen_list$f_hvc <-  fpkm %>% filter(region=='hvc') %>% filter(sex=='f')\n",
    "gen_list$f_ra <- fpkm %>% filter(region=='ra') %>% filter(sex=='f')\n",
    "gen_list$f_ax <- fpkm %>% filter(region=='ax') %>% filter(sex=='f')\n",
    "\n",
    "\n",
    "\n",
    "names(gen_list)\n",
    "head(gen_list$fm_ax_v)\n",
    "\n",
    "\n"
   ]
  },
  {
   "cell_type": "code",
   "execution_count": null,
   "metadata": {},
   "outputs": [],
   "source": [
    "#I need a list of all the genes \n",
    "genes <- unique(gen_list$m_an$gene_id)\n",
    "names(genes) <- genes"
   ]
  },
  {
   "cell_type": "markdown",
   "metadata": {},
   "source": [
    "## Do a loop run the stats. Doing it in one shot with corAndP"
   ]
  },
  {
   "cell_type": "code",
   "execution_count": null,
   "metadata": {},
   "outputs": [],
   "source": [
    "a <- gen_list %>% lapply(function(sample_set){\n",
    "    res_tbl <- genes %>% lapply(function(gene){\n",
    "        x <- sample_set %>% filter(gene_id == gene)\n",
    "        corAndPvalue(x$fpkm, x$song_capable=='y') %>% lapply(as.numeric)\n",
    "    }) \n",
    "})"
   ]
  },
  {
   "cell_type": "markdown",
   "metadata": {},
   "source": [
    "### wrangle into a nice tibble, takes a while"
   ]
  },
  {
   "cell_type": "code",
   "execution_count": null,
   "metadata": {},
   "outputs": [],
   "source": [
    "song_cap_res_tbls <- a %>% lapply(function(tbl){\n",
    "    \n",
    "    res <- tbl %>% t\n",
    "    res <-res %>% lapply(as.data.frame)\n",
    "    names(res) <- names(tbl)\n",
    "    res <- names(res) %>% lapply(function(ge){res[[ge]] %>% mutate(gene_id=ge)})\n",
    "    res <- res %>% purrr::reduce(rbind) %>% mutate(q=p.adjust(p, method='fdr'))\n",
    "})\n",
    "\n",
    "head(song_cap_res_tbls$f_an)"
   ]
  },
  {
   "cell_type": "code",
   "execution_count": null,
   "metadata": {},
   "outputs": [],
   "source": [
    "song_cap_res_tbls <- song_cap_res_tbls %>% lapply(left_join,mod_mem,by='gene_id')\n"
   ]
  },
  {
   "cell_type": "code",
   "execution_count": null,
   "metadata": {},
   "outputs": [],
   "source": [
    "head(song_cap_res_tbls$f_dn)"
   ]
  },
  {
   "cell_type": "code",
   "execution_count": null,
   "metadata": {},
   "outputs": [],
   "source": [
    "options(repr.plot.width=12.5, repr.plot.height=10)\n",
    "cor_cor_plot <- function(tbl,modu,rect_col){\n",
    "tbl %>% filter(module==modu) %>% filter(me_assigned!='X') %>%\n",
    "    \n",
    "    ggplot(aes(x=membership,\n",
    "               y=cor,\n",
    "               fill=me_assigned,\n",
    "               size=me_assigned==modu,\n",
    "               color=me_assigned==modu)) + \n",
    "    geom_rect(aes(xmin = .5^.5, xmax = 1, ymin = .5^.5, ymax = 1),\n",
    "               fill = rect_col, color='black', size = .75) +\n",
    "    \n",
    "    geom_point(shape=21)+\n",
    "    xlim(-1,1) + ylim(-1,1)+\n",
    "    scale_color_manual(values=c('grey','black'))+\n",
    "    geom_smooth(method = \"lm\",color='black',fill='grey',size=2)+\n",
    "    scale_fill_brewer('Module',palette = 'Set3')+\n",
    "    scale_size_manual(values=c(2,3))+\n",
    "    theme_grey(base_size=25) + \n",
    "    xlab(modu)+ylab('VL Capable')+guides(size=FALSE,color=FALSE)+\n",
    "    guides(fill = guide_legend(override.aes = list(size=10)))\n",
    "    \n",
    "    }\n",
    "\n"
   ]
  },
  {
   "cell_type": "code",
   "execution_count": null,
   "metadata": {},
   "outputs": [],
   "source": [
    "g_legend<-function(a.gplot){\n",
    "  tmp <- ggplot_gtable(ggplot_build(a.gplot))\n",
    "  leg <- which(sapply(tmp$grobs, function(x) x$name) == \"guide-box\")\n",
    "  legend <- tmp$grobs[[leg]]\n",
    "  return(legend)} \n",
    "\n",
    "m_dn_g<-cor_cor_plot(song_cap_res_tbls$m_dn,'G',\"#1b9e77\") + ggtitle('Male VL:\\nHVC vs. DN') +theme(plot.title = element_text(size=30),legend.position='none')+ylab('Vocal Learning')\n",
    "\n",
    "f_dn_g<-cor_cor_plot(song_cap_res_tbls$f_dn,'G',\"#d95f02\") + ggtitle('Female VL: \\nE2-HVC vs. DN & Veh-HVC') +theme(plot.title = element_text(size=30),legend.position='none') +ylab('')\n",
    "\n",
    "fm_hvc_v<-cor_cor_plot(song_cap_res_tbls$fm_hvc_v,'G',\"#7570b3\") + ggtitle('Untreated VL + Sex: \\nMale-HVC vs. Female-HVC') +theme(plot.title = element_text(size=30),legend.position='none')+ylab('')\n",
    "\n",
    "f_hvc<-cor_cor_plot(song_cap_res_tbls$f_hvc,'G',\"#e7298a\") + ggtitle('Female VL + E2: \\nVeh-HVC vs. E2-HVC') +ylab('') +theme(plot.title = element_text(size=30))\n",
    "\n",
    "lgnd <-  g_legend(f_hvc)\n",
    "\n",
    "f_hvc <- f_hvc + theme(legend.position='none')"
   ]
  },
  {
   "cell_type": "code",
   "execution_count": null,
   "metadata": {},
   "outputs": [],
   "source": [
    "options(repr.plot.width=28+7/4, repr.plot.height=7)\n",
    "top<-ggarrange(m_dn_g,f_dn_g,fm_hvc_v,f_hvc,lgnd,nrow=1,widths=c(1,1,1,1,.25))"
   ]
  },
  {
   "cell_type": "code",
   "execution_count": null,
   "metadata": {},
   "outputs": [],
   "source": [
    "library(ggrepel)"
   ]
  },
  {
   "cell_type": "code",
   "execution_count": null,
   "metadata": {},
   "outputs": [],
   "source": [
    "options(repr.plot.width=12.5, repr.plot.height=10)\n",
    "\n",
    "zoom_cor_cor_plot <- function(tbl,modu,bottom_left,top_right,rect_col){\n",
    "    tbl %>% filter(module==modu) %>% filter(me_assigned!='X') %>% \n",
    "    \n",
    "    ggplot(aes(x=membership,\n",
    "               y=cor)) + \n",
    "    geom_label_repel(aes(label=gene_id),size=6,fill='white', color='black',max.overlaps = Inf)+\n",
    "    xlim(bottom_left[1],top_right[1]) +\n",
    "    ylim(bottom_left[2],top_right[2])+\n",
    "    theme_grey(base_size=25) + \n",
    "    xlab(modu)+ylab('VL Capable')+\n",
    "    guides(fill = guide_legend(override.aes = list(size=10)))+\n",
    "    theme(panel.background = element_rect(fill =rect_col),panel.grid = element_blank())\n",
    "}\n",
    "\n"
   ]
  },
  {
   "cell_type": "code",
   "execution_count": null,
   "metadata": {},
   "outputs": [],
   "source": [
    "m_dn_zoom_p<-zoom_cor_cor_plot(song_cap_res_tbls$m_dn,'G',c(.5^.5,.5^.5),c(1,1),\"#1b9e77\") +theme(legend.position = 'none',axis.title=element_blank()) \n",
    "f_dn_zoom_p<-zoom_cor_cor_plot(song_cap_res_tbls$f_dn,'G',c(.5^.5,.5^.5),c(1,1),\"#d95f02\")+theme(legend.position = 'none',axis.title=element_blank()) \n",
    "fm_hvc_v_zoom_p<-zoom_cor_cor_plot(song_cap_res_tbls$fm_hvc_v,'G',c(.5^.5,.5^.5),c(1,1),\"#7570b3\")+theme(legend.position = 'none',axis.title=element_blank()) \n",
    "f_hvc_zoom_p<-zoom_cor_cor_plot(song_cap_res_tbls$f_hvc,'G',c(.5^.5,.5^.5),c(1,1),\"#e7298a\")+theme(legend.position = 'none',axis.title=element_blank()) \n",
    "\n",
    "\n",
    "bottom <- ggarrange(m_dn_zoom_p,f_dn_zoom_p,fm_hvc_v_zoom_p,f_hvc_zoom_p,nrow=2, ncol=2)"
   ]
  },
  {
   "cell_type": "code",
   "execution_count": null,
   "metadata": {},
   "outputs": [],
   "source": [
    "options(repr.plot.width=30+7/4, repr.plot.height=8)\n",
    "top"
   ]
  },
  {
   "cell_type": "code",
   "execution_count": null,
   "metadata": {},
   "outputs": [],
   "source": [
    "options(repr.plot.width=15, repr.plot.height=15)\n",
    "bottom\n"
   ]
  },
  {
   "cell_type": "code",
   "execution_count": null,
   "metadata": {},
   "outputs": [],
   "source": [
    "zoom_list <- function(tbl,modu,bottom_left=c(-1,-1),top_right=c(1,1)){\n",
    "    \n",
    "    tbl %>% filter(module==modu) %>% filter(me_assigned!='X') %>% \n",
    "    filter(cor > bottom_left[2]) %>% filter(cor < top_right[2])%>% \n",
    "    filter(membership > bottom_left[1]) %>% filter(membership < bottom_left[1] + .5)\n",
    "}"
   ]
  },
  {
   "cell_type": "code",
   "execution_count": null,
   "metadata": {},
   "outputs": [],
   "source": [
    "m_dn_zoom_l<-zoom_list(song_cap_res_tbls$m_dn,'G',c(.5^.5,.5^.5),c(1,1))$gene_id\n",
    "f_dn_zoom_l<-zoom_list(song_cap_res_tbls$f_dn,'G',c(.5^.5,.5^.5),c(1,1))$gene_id\n",
    "fm_hvc_v_zoom_l<-zoom_list(song_cap_res_tbls$fm_hvc_v,'G',c(.5^.5,.5^.5),c(1,1))$gene_id \n",
    "f_hvc_zoom_l<-zoom_list(song_cap_res_tbls$f_hvc,'G',c(.5^.5,.5^.5),c(1,1))$gene_id"
   ]
  },
  {
   "cell_type": "code",
   "execution_count": null,
   "metadata": {},
   "outputs": [],
   "source": [
    "library('VennDiagram')"
   ]
  },
  {
   "cell_type": "code",
   "execution_count": null,
   "metadata": {},
   "outputs": [],
   "source": [
    "z_list <- rtracklayer::import('/v-data2/matt_davenport/hana_reanalyses/hana_cm_formatted/genome/GCF_008822105.2_bTaeGut2.pat.W.v2_genomic.purged2.gtf') %>%\n",
    "            as_tibble %>% \n",
    "            filter(type=='gene') %>% dplyr::select(one_of(c('gene_id','start', 'seqnames'))) %>% arrange(start) %>%\n",
    "            mutate(chr=seqnames) %>% mutate(seqnames=NULL) %>% filter(chr=='NC_045027.1')\n",
    "z_list <- z_list$gene_id\n"
   ]
  },
  {
   "cell_type": "code",
   "execution_count": null,
   "metadata": {},
   "outputs": [],
   "source": [
    "venn_lists <- list(m_dn_zoom_l,f_dn_zoom_l,fm_hvc_v_zoom_l,f_hvc_zoom_l)\n",
    "\n",
    "names(venn_lists)<-c('Male VL\\n','Female VL\\t\\n','VL + Sex\\n','VL + E2\\n')\n"
   ]
  },
  {
   "cell_type": "code",
   "execution_count": null,
   "metadata": {},
   "outputs": [],
   "source": [
    "venn.diagram(x=venn_lists,filename = 'core_genes.png',output=TRUE,fill=RColorBrewer::brewer.pal(4, \"Dark2\"),\n",
    "             height = 2100, width = 2100)"
   ]
  },
  {
   "cell_type": "code",
   "execution_count": null,
   "metadata": {
    "scrolled": true
   },
   "outputs": [],
   "source": [
    "core_genes <- Reduce(intersect,venn_lists)\n",
    "all_assigned_genes <- song_cap_res_tbls$f_dn %>% filter(me_assigned!='X') %>% filter(module=='A')\n",
    "all_assigned_genes<- all_assigned_genes$gene_id\n",
    "\n",
    "assigned_z_list= intersect(z_list,all_assigned_genes)\n",
    "\n",
    "core_z_venn_lists <- list(core_genes, assigned_z_list, all_assigned_genes)\n",
    "names(core_z_venn_lists) <- c(' ', '', '  ')\n",
    "venn.diagram(x=core_z_venn_lists, filename = 'core_Zchrom_intersect.png',\n",
    "             output=TRUE,fill=c('#b000cf','#4a4a4a','light grey'),\n",
    "             height = 800, width = 1200\n",
    ")"
   ]
  },
  {
   "cell_type": "markdown",
   "metadata": {},
   "source": [
    "## Statistcal testing for z chromosome enrichment in G core"
   ]
  },
  {
   "cell_type": "markdown",
   "metadata": {},
   "source": [
    "### assigned genes"
   ]
  },
  {
   "cell_type": "code",
   "execution_count": null,
   "metadata": {},
   "outputs": [],
   "source": [
    "phyper(q = 4,\n",
    "       m = 820,\n",
    "       n = length(all_assigned_genes)-820,\n",
    "       k = 15, \n",
    "       lower.tail = FALSE, log.p = FALSE)"
   ]
  },
  {
   "cell_type": "markdown",
   "metadata": {},
   "source": [
    "### module G genes"
   ]
  },
  {
   "cell_type": "code",
   "execution_count": null,
   "metadata": {},
   "outputs": [],
   "source": [
    "mod_mem %>% filter(module==\"G\")%>% filter(me_assigned=='G') %>% filter(gene_id %in% z_list) %>% dim"
   ]
  },
  {
   "cell_type": "code",
   "execution_count": null,
   "metadata": {},
   "outputs": [],
   "source": [
    "phyper(q=4,\n",
    "       m=25,\n",
    "       n=344-25,\n",
    "       k=15,\n",
    "       lower.tail = FALSE, log.p = FALSE)"
   ]
  },
  {
   "cell_type": "markdown",
   "metadata": {},
   "source": [
    "### all genes"
   ]
  },
  {
   "cell_type": "code",
   "execution_count": null,
   "metadata": {},
   "outputs": [],
   "source": [
    "phyper(q = 4,\n",
    "       m = length(z_list),\n",
    "       n = 21040-length(z_list),\n",
    "       k = 15, \n",
    "       lower.tail = FALSE, log.p = FALSE)"
   ]
  },
  {
   "cell_type": "markdown",
   "metadata": {},
   "source": [
    "## Lets just look at the expression of these genens"
   ]
  },
  {
   "cell_type": "code",
   "execution_count": null,
   "metadata": {},
   "outputs": [],
   "source": [
    "options(repr.plot.width=30, repr.plot.height=15)\n",
    "\n",
    "names(core_genes) <- core_genes\n",
    "plts<-core_genes %>% lapply(function(gen){\n",
    "    tmp<-fpkm %>% filter(node=='dn') %>% filter(gene_id==gen) %>% mutate(grouping = paste(sex,dose,region,sep='_')) \n",
    "    male_veh_mean <- tmp %>% filter(grouping=='m_v_hvc') \n",
    "    male_veh_mean <- mean(male_veh_mean$fpkm)\n",
    "    tmp<-tmp %>% mutate(norm_expr = fpkm/male_veh_mean) %>% mutate(grouping=grouping%>%as.factor)\n",
    "    \n",
    "    tmp$grouping <- factor(tmp$grouping,c('m_v_hvc','m_e_hvc','m_v_pln','m_e_pln',\n",
    "                                          'f_v_hvc','f_e_hvc','f_v_pln','f_e_pln'))\n",
    "    \n",
    "    ggplot(tmp,aes(x=grouping,y=norm_expr,fill=sex,size=song_capable)) + \n",
    "        geom_bar(stat = \"summary\",color='black')+scale_size_manual(\"VL Capable\",values=c(0,1))+\n",
    "        geom_point(shape=21,size=3,fill='grey') +theme_grey(base_size=25) + ggtitle(gen) + \n",
    "        xlab(\"\") + ylab('') + scale_x_discrete(labels=c(\"M-Veh-HVC\",'M-E2-HVC','M-Veh-DN','M-E2-DN',\n",
    "                                                      \"F-Veh-HVC\",'F-E2-HVC','F-Veh-DN','F-E2-DN')) +\n",
    "        theme(axis.text.x=element_text(angle = -90, hjust = 0))\n",
    "    \n",
    "})\n",
    "\n",
    "lgnd <- g_legend(plts$GHR)\n",
    "\n",
    "plts<-plts %>% lapply(function(plt){plt+theme(legend.position='none')})\n",
    "row1<-ggarrange(plts$GHR,plts$LRRC2,plts$RGS7BP,plts$THBS4,plts$CENPE,NULL,nrow=1,widths=c(1,1,1,1,1,1))\n",
    "row2<-ggarrange(plts$EDA2R,plts$FAM102B,plts$FBXL13,plts$LOC115494282,plts$LOC115494463,lgnd,nrow=1,widths=c(1,1,1,1,1,1))\n",
    "row3<-ggarrange(plts$LOC115494624,plts$PFKP,plts$PHETA1,plts$SDC1,plts$SIX2,NULL, nrow=1,widths=c(1,1,1,1,1,1))\n",
    "ggarrange(row1,row2,row3,nrow=3)\n",
    "#fpkm %>% filter(node=='dn') %>% filter(gene_id %in% core_genes)"
   ]
  },
  {
   "cell_type": "code",
   "execution_count": null,
   "metadata": {},
   "outputs": [],
   "source": []
  },
  {
   "cell_type": "markdown",
   "metadata": {},
   "source": [
    "# 7 - Chromosomal enrichments"
   ]
  },
  {
   "cell_type": "markdown",
   "metadata": {},
   "source": [
    "## First lets just look at the data and see if any chromosome module pairings stand out"
   ]
  },
  {
   "cell_type": "code",
   "execution_count": null,
   "metadata": {},
   "outputs": [],
   "source": [
    "# Specify the lib path\n",
    "lib_path<-paste(getwd(),'/hana_reanalysis_lib',sep='')\n",
    "print(lib_path)\n",
    "\n",
    "# Set the path\n",
    ".libPaths(lib_path)\n",
    ".libPaths()"
   ]
  },
  {
   "cell_type": "code",
   "execution_count": null,
   "metadata": {},
   "outputs": [],
   "source": [
    "library(tidyverse)\n",
    "library(ggpubr)"
   ]
  },
  {
   "cell_type": "code",
   "execution_count": null,
   "metadata": {},
   "outputs": [],
   "source": [
    "#BiocManager::install(\"rtracklayer\")\n",
    "library(rtracklayer)"
   ]
  },
  {
   "cell_type": "markdown",
   "metadata": {},
   "source": [
    "## Read in module memberships"
   ]
  },
  {
   "cell_type": "code",
   "execution_count": null,
   "metadata": {
    "scrolled": true
   },
   "outputs": [],
   "source": [
    "g_members <- readRDS('4_mod_membership_all_genes.rds') %>% filter(me_assigned != 'X') %>% \n",
    "    filter(me_assigned!='X')\n",
    "head(g_members)"
   ]
  },
  {
   "cell_type": "markdown",
   "metadata": {},
   "source": [
    "## Read in the genome annotation, really just need the gene_ids "
   ]
  },
  {
   "cell_type": "code",
   "execution_count": null,
   "metadata": {},
   "outputs": [],
   "source": [
    "annot <- rtracklayer::import('/v-data2/matt_davenport/hana_reanalyses/hana_cm_formatted/genome/GCF_008822105.2_bTaeGut2.pat.W.v2_genomic.purged2.gtf') %>%\n",
    "            as_tibble %>% \n",
    "            filter(type=='gene') %>% dplyr::select(one_of(c('gene_id','start', 'seqnames'))) %>% arrange(start) %>%\n",
    "            mutate(chr=seqnames) %>% mutate(seqnames=NULL)\n",
    "head(annot)"
   ]
  },
  {
   "cell_type": "code",
   "execution_count": null,
   "metadata": {},
   "outputs": [],
   "source": [
    "g_mem_forest <- left_join(g_members,annot,by='gene_id') %>% arrange(start) %>% mutate(chr=chr %>% as.character) \n",
    "head(g_mem_forest)"
   ]
  },
  {
   "cell_type": "code",
   "execution_count": null,
   "metadata": {},
   "outputs": [],
   "source": [
    "g_mem_forest$chr[which(grepl('NW_', g_mem_forest$chr))] <- 'NW_xxxxxx.x'\n",
    "\n",
    "g_mem_forest <- g_mem_forest %>% arrange(chr,start) %>% \n",
    "                mutate(chr=factor(chr,levels=unique(chr))) %>% group_by(chr)\n",
    "head(g_mem_forest)\n",
    "unique(g_mem_forest$chr)"
   ]
  },
  {
   "cell_type": "markdown",
   "metadata": {},
   "source": [
    "## first I need to know how many genes of each module on each chromosome"
   ]
  },
  {
   "cell_type": "code",
   "execution_count": null,
   "metadata": {},
   "outputs": [],
   "source": [
    "#make some variables for convenience\n",
    "mod_cols <- c('A','B','C','D','E','F','G','H','I','J','K','L')\n",
    "names(mod_cols) <- mod_cols\n",
    "\n",
    "mod_per_chr <- mod_cols %>%\n",
    "    lapply(function(col){\n",
    "        return(g_mem_forest %>% \n",
    "        filter(me_assigned == col) %>% dplyr::select(one_of('chr','gene_id')) %>% \n",
    "        group_by(chr) %>% summarize(count = n()) %>% ungroup)\n",
    "        \n",
    "    })\n",
    "\n",
    " mod_per_chr <- names(mod_per_chr) %>% lapply(function(nm){\n",
    "     tbl <- mod_per_chr[[nm]]\n",
    "     names(tbl) <- c('chr',nm)\n",
    "     return(tbl)\n",
    " })"
   ]
  },
  {
   "cell_type": "code",
   "execution_count": null,
   "metadata": {},
   "outputs": [],
   "source": [
    "mod_chr_tbl<- purrr::reduce(mod_per_chr,left_join,by='chr')\n",
    "mod_chr_tbl[is.na(mod_chr_tbl)] <- 0\n",
    "mod_chr_tbl <- mod_chr_tbl %>% mutate(total = A+B+C+D+E+F+G+H+I+J+K+L) %>% arrange(-total)"
   ]
  },
  {
   "cell_type": "markdown",
   "metadata": {},
   "source": [
    "## Now interms of random chance"
   ]
  },
  {
   "cell_type": "code",
   "execution_count": null,
   "metadata": {},
   "outputs": [],
   "source": [
    "fold_expected <- mod_chr_tbl %>% mutate_at(c(mod_cols,'total'),\n",
    "                                           function(col){\n",
    "                                               return(col/sum(col)/(mod_chr_tbl$total/sum(mod_chr_tbl$total)))\n",
    "                                           }) %>% dplyr::select(-one_of('total'))"
   ]
  },
  {
   "cell_type": "code",
   "execution_count": null,
   "metadata": {},
   "outputs": [],
   "source": [
    "fold_expected <- fold_expected %>% pivot_longer(one_of(mod_cols),names_to='module',values_to='fold_expected')"
   ]
  },
  {
   "cell_type": "code",
   "execution_count": null,
   "metadata": {},
   "outputs": [],
   "source": [
    "library(RColorBrewer)\n",
    "\n",
    "options(repr.plot.width=25, repr.plot.height=10)\n",
    "\n",
    "\n",
    "fold_expected %>% \n",
    "    ggplot(aes(x=chr,y=fold_expected,fill=module)) + \n",
    "        geom_hline(yintercept=1,color='black',size=3) + \n",
    "        geom_point(shape=21,size=10) + \n",
    "        scale_fill_brewer('Module',palette='Set3')+\n",
    "        theme_grey(base_size=25) +\n",
    "        scale_y_continuous('Fold Enrichment',breaks=c(1,5,10))+\n",
    "        scale_x_discrete('\\nChromosome')+\n",
    "        theme(axis.text.x=element_text(angle=90))+ \n",
    "        guides(fill = guide_legend(override.aes = list(size=10)))"
   ]
  },
  {
   "cell_type": "markdown",
   "metadata": {},
   "source": [
    "## Wonderful, but how to I know if a value is significant? I need to bootstrap some bonferoni corrected alpha cutoffs for each pairing"
   ]
  },
  {
   "cell_type": "markdown",
   "metadata": {},
   "source": [
    "### Takes a long time"
   ]
  },
  {
   "cell_type": "code",
   "execution_count": null,
   "metadata": {},
   "outputs": [],
   "source": [
    "boot_straps <- seq(1:25000) %>% lapply(function(sq){paste('boot_me_',sq,sep='')})\n",
    "names(boot_straps) <- boot_straps \n",
    "\n",
    "boot_g_mem_forest <- g_mem_forest\n",
    "\n",
    "bootstrapped_mes <- boot_straps %>% \n",
    "    lapply(function(boot){\n",
    "        col <- sample(g_mem_forest$me_assigned,length(g_mem_forest$gene_id),replace=FALSE)\n",
    "        return(col)\n",
    "        \n",
    "    }) %>% as_tibble %>% mutate(gene_id = g_mem_forest$gene_id)\n",
    "\n",
    "bootstrapped_mes <- g_mem_forest %>% dplyr::select(one_of('chr','gene_id')) %>% left_join(bootstrapped_mes,by='gene_id')\n",
    "head(bootstrapped_mes)"
   ]
  },
  {
   "cell_type": "markdown",
   "metadata": {},
   "source": [
    "## Now I need to calculate the fold expected for each pairing within each bootstrap"
   ]
  },
  {
   "cell_type": "markdown",
   "metadata": {},
   "source": [
    "### takes a long time"
   ]
  },
  {
   "cell_type": "code",
   "execution_count": null,
   "metadata": {},
   "outputs": [],
   "source": [
    "chromos <- fold_expected$chr %>% unique\n",
    "boots<-names(boot_straps)\n",
    "mods <- mod_cols\n",
    "\n",
    "a<-chromos %>% lapply(function(chromo){\n",
    "    \n",
    "    chromosome_tbl <- bootstrapped_mes %>% filter(chr==chromo) %>% \n",
    "        dplyr::select(starts_with('boot_me'),chr) %>% ungroup\n",
    "    \n",
    "    boot_straps %>% lapply(function(boot){\n",
    "        \n",
    "        boot_tbl <- chromosome_tbl %>% dplyr::select(all_of(boot),'chr')\n",
    "            \n",
    "        fold_expected <- mods %>% lapply(function(mod){\n",
    "            frac_mod <- sum(bootstrapped_mes[[boot]]==mod)/length(bootstrapped_mes[[boot]])\n",
    "            frac_chrom <-  sum(bootstrapped_mes$chr==chromo)/length(bootstrapped_mes$chr)\n",
    "            frac_expected <- frac_mod * frac_chrom\n",
    "            frac_got <- sum(boot_tbl[[boot]]==mod)/length(bootstrapped_mes$chr)\n",
    "            \n",
    "            fold_expected <- frac_got/frac_expected\n",
    "            \n",
    "        }) %>% as_tibble \n",
    "     }) %>% purrr::reduce(rbind) %>% \n",
    "        pivot_longer(everything(),names_to='mod',values_to='fold_expected') %>% mutate(chr=chromo %>% as.character)\n",
    "}) %>% purrr::reduce(full_join,by = c(\"mod\", \"fold_expected\", \"chr\"))\n",
    "\n",
    "head(a)\n",
    "\n"
   ]
  },
  {
   "cell_type": "markdown",
   "metadata": {},
   "source": [
    "## And now to estimate the alpha cutoff"
   ]
  },
  {
   "cell_type": "code",
   "execution_count": null,
   "metadata": {},
   "outputs": [],
   "source": [
    "generate_alpha <- function(chrom,modu){\n",
    "    a %>% filter(mod ==modu) %>%\n",
    "        filter(chr==chrom) %>% \n",
    "        select(fold_expected) %>% \n",
    "        as.matrix %>% quantile(.99986979166)\n",
    "}\n",
    "\n",
    "\n",
    "\n",
    "generate_alpha('NC_045000.1','A')\n",
    "generate_alpha('NC_045000.1','D')"
   ]
  },
  {
   "cell_type": "code",
   "execution_count": null,
   "metadata": {},
   "outputs": [],
   "source": [
    "fold_expected$boot_alpha <- map2(fold_expected$chr,\n",
    "                                 fold_expected$module,\n",
    "                                 generate_alpha) #%>% as.numeric\n",
    "\n",
    "fold_expected <- fold_expected %>% mutate(is_sig = boot_alpha <= fold_expected )\n",
    "head(fold_expected)"
   ]
  },
  {
   "cell_type": "markdown",
   "metadata": {},
   "source": [
    "## Now lets do some plotting"
   ]
  },
  {
   "cell_type": "code",
   "execution_count": null,
   "metadata": {},
   "outputs": [],
   "source": [
    "actual_chrs <- c('1','1a','2','3','4','4a','5','6','7','8','9','10','11','12','13','14','15',\n",
    "'17','18','19','20','21','22','23','24','25','26','27','28','Z','W','29','other')%>%as.matrix"
   ]
  },
  {
   "cell_type": "code",
   "execution_count": null,
   "metadata": {},
   "outputs": [],
   "source": [
    "options(repr.plot.width=10, repr.plot.height=13\n",
    "       )\n",
    "\n",
    "g_legend<-function(a.gplot){\n",
    "  tmp <- ggplot_gtable(ggplot_build(a.gplot))\n",
    "  leg <- which(sapply(tmp$grobs, function(x) x$name) == \"guide-box\")\n",
    "  legend <- tmp$grobs[[leg]]\n",
    "  return(legend)} \n",
    "                      \n",
    "enrich_plt<- fold_expected %>% \n",
    "    ggplot(aes(y=chr,x=fold_expected,\n",
    "               fill=module,color=is_sig)) + \n",
    "        geom_vline(xintercept=1,color='black',size=3) + \n",
    "        geom_point(data=fold_expected %>% filter(is_sig==FALSE),shape=21,stroke=2,alpha=.3,size=7,show.legend = FALSE) + \n",
    "        geom_point(data=fold_expected %>% filter(is_sig==TRUE),shape=21,stroke=2,size=10) + \n",
    "        scale_fill_brewer('Module',palette='Set3')+\n",
    "        scale_color_manual('pBonf\\n<= 0.05', values=c('grey','black'))+\n",
    "        theme_grey(base_size=25) +\n",
    "        scale_x_continuous('Fold Enrichment',breaks=c(1,5,10,15),limits=c(0,15))+\n",
    "        scale_y_discrete('\\nChromosome',labels=rev(actual_chrs),limits=rev(levels(fold_expected$chr)))+\n",
    "        guides(fill = guide_legend(override.aes = list(size=10)))\n",
    "\n",
    "lgnd <- g_legend(enrich_plt)\n",
    "enrich_plt <- enrich_plt +theme(legend.position='none')\n",
    "                      enrich_plt"
   ]
  },
  {
   "cell_type": "code",
   "execution_count": null,
   "metadata": {},
   "outputs": [],
   "source": [
    "names(actual_chrs)<-NULL\n",
    "actual_chrs_m <-actual_chrs %>% as.matrix"
   ]
  },
  {
   "cell_type": "markdown",
   "metadata": {},
   "source": [
    "## Ok now I want to make a plot for each chromosome w/ sig enrichment showing the position of the genes from enriched modules\n",
    "\n",
    "## Save the NW for last"
   ]
  },
  {
   "cell_type": "code",
   "execution_count": null,
   "metadata": {},
   "outputs": [],
   "source": [
    "enriched_mod_tbl <- fold_expected %>% filter(is_sig == TRUE) %>% \n",
    "    filter(chr!='NW_xxxxxx.x') %>% select(chr,module) #%>% t %>% as.data.frame\n",
    "\n",
    "enriched_mod_tbl "
   ]
  },
  {
   "cell_type": "code",
   "execution_count": null,
   "metadata": {},
   "outputs": [],
   "source": [
    "gene_list <- map2(enriched_mod_tbl$chr, enriched_mod_tbl$module,\n",
    "     function(chrom, modu){\n",
    "         g_mem_forest %>% filter(chr==chrom) %>% filter(me_assigned == modu) %>% select(gene_id,chr,me_assigned,start)\n",
    "     }) %>% purrr::reduce(rbind)# %>% as_tibble"
   ]
  },
  {
   "cell_type": "code",
   "execution_count": null,
   "metadata": {},
   "outputs": [],
   "source": [
    "head(gene_list)"
   ]
  },
  {
   "cell_type": "code",
   "execution_count": null,
   "metadata": {},
   "outputs": [],
   "source": [
    "g_mem_forest %>% ggplot(aes(y=start/1000000,x=chr,color=me_assigned))+\n",
    "    geom_jitter(position = position_jitter(width = 0.25, height = 0),alpha=1)+\n",
    "    scale_color_brewer('Module',palette='Set3')+\n",
    "    theme_grey(base_size=25)+\n",
    "    theme(axis.text.x=element_text(angle=90))+ \n",
    "    xlab('\\nChromsome')+ylab('Start Position (MB)\\n')+\n",
    "    guides(color = guide_legend(override.aes = list(size=10)))"
   ]
  },
  {
   "cell_type": "code",
   "execution_count": null,
   "metadata": {},
   "outputs": [],
   "source": [
    "chr_by_mod<- g_mem_forest %>% \n",
    "    ggplot(aes(y=chr,x=1,fill=me_assigned)) +\n",
    "    geom_bar(position=\"fill\", stat=\"identity\")+ \n",
    "    scale_fill_brewer('Module',palette='Set3')+\n",
    "    theme_minimal(base_size=25)+\n",
    "    theme(axis.text.x=element_text(colour = 'white'),\n",
    "          axis.text.y=element_blank(),\n",
    "          axis.ticks=element_blank()) + \n",
    "    xlab('') + ylab('') +\n",
    "    theme(legend.position='none')+scale_y_discrete('',labels=rev(actual_chrs),limits=rev(levels(fold_expected$chr)))\n",
    "    \n",
    "\n",
    "chr_by_mod"
   ]
  },
  {
   "cell_type": "code",
   "execution_count": null,
   "metadata": {},
   "outputs": [],
   "source": [
    "library(ggpubr)\n",
    "options(repr.plot.width=18, repr.plot.height=13\n",
    "       )\n",
    "ggarrange(enrich_plt,chr_by_mod,NULL,lgnd,nrow=1,widths=c(1,.25,.07,.2))"
   ]
  },
  {
   "cell_type": "markdown",
   "metadata": {},
   "source": [
    "## Ok, lets look at E continuously and pull out the sex chromsomes"
   ]
  },
  {
   "cell_type": "code",
   "execution_count": null,
   "metadata": {},
   "outputs": [],
   "source": [
    "E_tbl <- g_mem_forest %>% ungroup %>% select(E,gene_id, me_assigned, chr) %>%\n",
    "    mutate(is_w=chr=='NC_045028.1') %>%\n",
    "    mutate(is_z=chr== 'NC_045027.1')\n",
    "\n",
    "E_tbl$sex_chromosome = map2(E_tbl$is_w,E_tbl$is_z,function(.x,.y){\n",
    "    if (!.x & !.y) {\n",
    "        return('Somatic')\n",
    "    }else if (.x){\n",
    "        return('W')\n",
    "    }else if (.y){\n",
    "        return('Z')\n",
    "    }\n",
    "}) %>% unlist %>% as.factor\n"
   ]
  },
  {
   "cell_type": "code",
   "execution_count": null,
   "metadata": {},
   "outputs": [],
   "source": [
    "options(repr.plot.width=11, repr.plot.height=4)\n",
    "\n",
    "E_tbl %>% \n",
    "    ggplot(aes(x=E, fill=sex_chromosome, group= sex_chromosome)) + \n",
    "    geom_density(alpha=.7) + theme_grey(base_size=25) +\n",
    "    scale_fill_manual('Chromosome',values = c('dark grey','magenta','cyan')) + \n",
    "    ylab('Density') +\n",
    "    theme(axis.text.y=element_blank(),\n",
    "          axis.ticks.y=element_blank())"
   ]
  },
  {
   "cell_type": "markdown",
   "metadata": {},
   "source": [
    "## I'd love to take a look a the interaction of MEG E and MEG G in the gene space."
   ]
  },
  {
   "cell_type": "code",
   "execution_count": null,
   "metadata": {},
   "outputs": [],
   "source": [
    "g_mem_forest %>%ungroup() %>% select(E,G,gene_id,me_assigned) %>% \n",
    "    ggplot(aes(x=G^2,y=E^2, fill=me_assigned)) +\n",
    "    geom_point(shape=21,stroke=.1,size=3) +\n",
    "    geom_label(data=g_mem_forest %>%ungroup() %>% select(E,G,gene_id,me_assigned) %>% filter(.375<G^2) %>% filter(.25<E^2),\n",
    "                   aes(label=gene_id),size=8)+\n",
    "    theme_grey(base_size=25)+\n",
    "    scale_fill_brewer('Module',palette = 'Set3')"
   ]
  },
  {
   "cell_type": "code",
   "execution_count": null,
   "metadata": {},
   "outputs": [],
   "source": []
  }
 ],
 "metadata": {
  "kernelspec": {
   "display_name": "R",
   "language": "R",
   "name": "ir"
  },
  "language_info": {
   "codemirror_mode": "r",
   "file_extension": ".r",
   "mimetype": "text/x-r-source",
   "name": "R",
   "pygments_lexer": "r",
   "version": "3.6.1"
  }
 },
 "nbformat": 4,
 "nbformat_minor": 2
}
